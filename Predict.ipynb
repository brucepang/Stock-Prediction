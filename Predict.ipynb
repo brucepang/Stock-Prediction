{
 "cells": [
  {
   "cell_type": "code",
   "execution_count": 1,
   "metadata": {},
   "outputs": [
    {
     "name": "stderr",
     "output_type": "stream",
     "text": [
      "Using TensorFlow backend.\n"
     ]
    }
   ],
   "source": [
    "import pandas\n",
    "import numpy as np\n",
    "%matplotlib inline\n",
    "import matplotlib.pyplot as plt\n",
    "import time\n",
    "import keras\n",
    "from keras.models import Sequential\n",
    "from keras.layers.core import Dense, Dropout, Activation\n",
    "from keras.layers.recurrent import LSTM\n",
    "from keras.models import load_model\n",
    "import keras\n",
    "from sklearn import preprocessing\n",
    "import tensorflow as tf\n",
    "import math"
   ]
  },
  {
   "cell_type": "code",
   "execution_count": 2,
   "metadata": {},
   "outputs": [
    {
     "name": "stdout",
     "output_type": "stream",
     "text": [
      "[[ 22.  28.]\n",
      " [ 49.  64.]]\n"
     ]
    }
   ],
   "source": [
    "# Creates a graph.\n",
    "a = tf.constant([1.0, 2.0, 3.0, 4.0, 5.0, 6.0], shape=[2, 3], name='a')\n",
    "b = tf.constant([1.0, 2.0, 3.0, 4.0, 5.0, 6.0], shape=[3, 2], name='b')\n",
    "c = tf.matmul(a, b)\n",
    "# Creates a session with log_device_placement set to True.\n",
    "sess = tf.Session(config=tf.ConfigProto(log_device_placement=True))\n",
    "# Runs the op.\n",
    "print(sess.run(c))"
   ]
  },
  {
   "cell_type": "code",
   "execution_count": 16,
   "metadata": {},
   "outputs": [],
   "source": [
    "def build_model(layers):\n",
    "    d = 0.3\n",
    "    model = Sequential()\n",
    "    \n",
    "    model.add(LSTM(256, input_shape=(layers[1], layers[0]), return_sequences=True))#(window,5)\n",
    "    model.add(Dropout(d))\n",
    "        \n",
    "    model.add(LSTM(256, input_shape=(layers[1], layers[0]), return_sequences=False))\n",
    "    model.add(Dropout(d))\n",
    "        \n",
    "    model.add(Dense(32,kernel_initializer=\"uniform\",activation='relu'))        \n",
    "    model.add(Dense(1,kernel_initializer=\"uniform\",activation='linear'))\n",
    "    \n",
    "    # adam = keras.optimizers.Adam(decay=0.2)\n",
    "        \n",
    "    start = time.time()\n",
    "    model.compile(loss='mse',optimizer='adam', metrics=['accuracy'])\n",
    "    print(\"Compilation Time : \", time.time() - start)\n",
    "    return model"
   ]
  },
  {
   "cell_type": "code",
   "execution_count": 28,
   "metadata": {},
   "outputs": [],
   "source": [
    "df = pandas.read_csv(\"../nyse/prices-split-adjusted.csv\",index_col = 0)\n",
    "df = df[df.symbol == 'GOOG']\n",
    "df[\"adj close\"] = df.close # Moving close to the last column\n",
    "df.drop(['close'], 1, inplace=True) # Moving close to the last column\n",
    "df.drop(['symbol'],1,inplace=True)"
   ]
  },
  {
   "cell_type": "code",
   "execution_count": 29,
   "metadata": {},
   "outputs": [],
   "source": [
    "def normalize_data(df):\n",
    "    min_max_scaler = preprocessing.MinMaxScaler()\n",
    "    df['open'] = min_max_scaler.fit_transform(df.open.values.reshape(-1,1))\n",
    "    df['high'] = min_max_scaler.fit_transform(df.high.values.reshape(-1,1))\n",
    "    df['low'] = min_max_scaler.fit_transform(df.low.values.reshape(-1,1))\n",
    "    df['volume'] = min_max_scaler.fit_transform(df.volume.values.reshape(-1,1))\n",
    "    df['adj close'] = min_max_scaler.fit_transform(df['adj close'].values.reshape(-1,1))\n",
    "    return df\n",
    "df = normalize_data(df)"
   ]
  },
  {
   "cell_type": "code",
   "execution_count": 30,
   "metadata": {},
   "outputs": [],
   "source": [
    "def load_data(stock, seq_len):\n",
    "    amount_of_features = len(stock.columns) # 5\n",
    "    data = stock.as_matrix() \n",
    "    sequence_length = seq_len + 1 # index starting from 0\n",
    "    result = []\n",
    "    \n",
    "    for index in range(len(data) - sequence_length): # maxmimum date = lastest date - sequence length\n",
    "        result.append(data[index: index + sequence_length]) # index : index + 22days\n",
    "    \n",
    "    result = np.array(result)\n",
    "    row = round(0.9 * result.shape[0]) # 90% split\n",
    "    train = result[:int(row), :] # 90% date, all features \n",
    "    \n",
    "    x_train = train[:, :-1] \n",
    "    y_train = train[:, -1][:,-1]\n",
    "    \n",
    "    x_test = result[int(row):, :-1] \n",
    "    y_test = result[int(row):, -1][:,-1]\n",
    "\n",
    "    x_train = np.reshape(x_train, (x_train.shape[0], x_train.shape[1], amount_of_features))\n",
    "    x_test = np.reshape(x_test, (x_test.shape[0], x_test.shape[1], amount_of_features))  \n",
    "\n",
    "    return [x_train, y_train, x_test, y_test]"
   ]
  },
  {
   "cell_type": "code",
   "execution_count": 31,
   "metadata": {},
   "outputs": [],
   "source": [
    "window = 44\n",
    "X_train, y_train, X_test, y_test = load_data(df, window)"
   ]
  },
  {
   "cell_type": "code",
   "execution_count": null,
   "metadata": {},
   "outputs": [],
   "source": []
  },
  {
   "cell_type": "code",
   "execution_count": 32,
   "metadata": {},
   "outputs": [
    {
     "name": "stdout",
     "output_type": "stream",
     "text": [
      "('Compilation Time : ', 0.026691913604736328)\n"
     ]
    }
   ],
   "source": [
    "model = build_model([5,window,1])"
   ]
  },
  {
   "cell_type": "code",
   "execution_count": 33,
   "metadata": {
    "scrolled": false
   },
   "outputs": [
    {
     "name": "stdout",
     "output_type": "stream",
     "text": [
      "Train on 1390 samples, validate on 155 samples\n",
      "Epoch 1/90\n",
      "1390/1390 [==============================] - 1s - loss: 0.1321 - acc: 7.1942e-04 - val_loss: 0.5366 - val_acc: 0.0000e+00\n",
      "Epoch 2/90\n",
      "1390/1390 [==============================] - 0s - loss: 0.0679 - acc: 7.1942e-04 - val_loss: 0.0545 - val_acc: 0.0000e+00\n",
      "Epoch 3/90\n",
      "1390/1390 [==============================] - 0s - loss: 0.0396 - acc: 7.1942e-04 - val_loss: 0.1721 - val_acc: 0.0000e+00\n",
      "Epoch 4/90\n",
      "1390/1390 [==============================] - 0s - loss: 0.0217 - acc: 7.1942e-04 - val_loss: 0.2071 - val_acc: 0.0000e+00\n",
      "Epoch 5/90\n",
      "1390/1390 [==============================] - 0s - loss: 0.0172 - acc: 7.1942e-04 - val_loss: 0.0835 - val_acc: 0.0000e+00\n",
      "Epoch 6/90\n",
      "1390/1390 [==============================] - 0s - loss: 0.0098 - acc: 7.1942e-04 - val_loss: 0.0452 - val_acc: 0.0000e+00\n",
      "Epoch 7/90\n",
      "1390/1390 [==============================] - 0s - loss: 0.0050 - acc: 7.1942e-04 - val_loss: 0.0795 - val_acc: 0.0000e+00\n",
      "Epoch 8/90\n",
      "1390/1390 [==============================] - 0s - loss: 0.0060 - acc: 7.1942e-04 - val_loss: 0.0594 - val_acc: 0.0000e+00\n",
      "Epoch 9/90\n",
      "1390/1390 [==============================] - 0s - loss: 0.0030 - acc: 7.1942e-04 - val_loss: 0.0240 - val_acc: 0.0000e+00\n",
      "Epoch 10/90\n",
      "1390/1390 [==============================] - 0s - loss: 0.0041 - acc: 7.1942e-04 - val_loss: 0.0350 - val_acc: 0.0000e+00\n",
      "Epoch 11/90\n",
      "1390/1390 [==============================] - 0s - loss: 0.0023 - acc: 7.1942e-04 - val_loss: 0.0549 - val_acc: 0.0000e+00\n",
      "Epoch 12/90\n",
      "1390/1390 [==============================] - 0s - loss: 0.0026 - acc: 7.1942e-04 - val_loss: 0.0455 - val_acc: 0.0000e+00\n",
      "Epoch 13/90\n",
      "1390/1390 [==============================] - 0s - loss: 0.0018 - acc: 7.1942e-04 - val_loss: 0.0354 - val_acc: 0.0000e+00\n",
      "Epoch 14/90\n",
      "1390/1390 [==============================] - ETA: 0s - loss: 0.0021 - acc: 9.7656e-0 - 0s - loss: 0.0021 - acc: 7.1942e-04 - val_loss: 0.0413 - val_acc: 0.0000e+00\n",
      "Epoch 15/90\n",
      "1390/1390 [==============================] - 0s - loss: 0.0016 - acc: 7.1942e-04 - val_loss: 0.0442 - val_acc: 0.0000e+00\n",
      "Epoch 16/90\n",
      "1390/1390 [==============================] - 0s - loss: 0.0017 - acc: 7.1942e-04 - val_loss: 0.0330 - val_acc: 0.0000e+00\n",
      "Epoch 17/90\n",
      "1390/1390 [==============================] - 0s - loss: 0.0014 - acc: 7.1942e-04 - val_loss: 0.0252 - val_acc: 0.0000e+00\n",
      "Epoch 18/90\n",
      "1390/1390 [==============================] - 0s - loss: 0.0014 - acc: 7.1942e-04 - val_loss: 0.0269 - val_acc: 0.0000e+00\n",
      "Epoch 19/90\n",
      "1390/1390 [==============================] - 0s - loss: 0.0014 - acc: 7.1942e-04 - val_loss: 0.0248 - val_acc: 0.0000e+00\n",
      "Epoch 20/90\n",
      "1390/1390 [==============================] - 0s - loss: 0.0013 - acc: 7.1942e-04 - val_loss: 0.0192 - val_acc: 0.0000e+00\n",
      "Epoch 21/90\n",
      "1390/1390 [==============================] - 0s - loss: 0.0013 - acc: 7.1942e-04 - val_loss: 0.0202 - val_acc: 0.0000e+00\n",
      "Epoch 22/90\n",
      "1390/1390 [==============================] - 0s - loss: 0.0012 - acc: 7.1942e-04 - val_loss: 0.0193 - val_acc: 0.0000e+00\n",
      "Epoch 23/90\n",
      "1390/1390 [==============================] - 0s - loss: 0.0012 - acc: 7.1942e-04 - val_loss: 0.0176 - val_acc: 0.0000e+00\n",
      "Epoch 24/90\n",
      "1390/1390 [==============================] - 0s - loss: 0.0013 - acc: 7.1942e-04 - val_loss: 0.0174 - val_acc: 0.0000e+00\n",
      "Epoch 25/90\n",
      "1390/1390 [==============================] - 0s - loss: 0.0012 - acc: 7.1942e-04 - val_loss: 0.0163 - val_acc: 0.0000e+00\n",
      "Epoch 26/90\n",
      "1390/1390 [==============================] - 0s - loss: 0.0013 - acc: 7.1942e-04 - val_loss: 0.0149 - val_acc: 0.0000e+00\n",
      "Epoch 27/90\n",
      "1390/1390 [==============================] - 0s - loss: 0.0011 - acc: 7.1942e-04 - val_loss: 0.0142 - val_acc: 0.0000e+00\n",
      "Epoch 28/90\n",
      "1390/1390 [==============================] - 0s - loss: 0.0011 - acc: 7.1942e-04 - val_loss: 0.0131 - val_acc: 0.0000e+00\n",
      "Epoch 29/90\n",
      "1390/1390 [==============================] - 0s - loss: 0.0012 - acc: 7.1942e-04 - val_loss: 0.0136 - val_acc: 0.0000e+00\n",
      "Epoch 30/90\n",
      "1390/1390 [==============================] - 0s - loss: 0.0012 - acc: 7.1942e-04 - val_loss: 0.0134 - val_acc: 0.0000e+00\n",
      "Epoch 31/90\n",
      "1390/1390 [==============================] - 0s - loss: 0.0012 - acc: 7.1942e-04 - val_loss: 0.0126 - val_acc: 0.0000e+00\n",
      "Epoch 32/90\n",
      "1390/1390 [==============================] - 0s - loss: 0.0011 - acc: 7.1942e-04 - val_loss: 0.0131 - val_acc: 0.0000e+00\n",
      "Epoch 33/90\n",
      "1390/1390 [==============================] - 0s - loss: 0.0011 - acc: 7.1942e-04 - val_loss: 0.0120 - val_acc: 0.0000e+00\n",
      "Epoch 34/90\n",
      "1390/1390 [==============================] - 0s - loss: 0.0011 - acc: 7.1942e-04 - val_loss: 0.0129 - val_acc: 0.0000e+00\n",
      "Epoch 35/90\n",
      "1390/1390 [==============================] - 0s - loss: 0.0011 - acc: 7.1942e-04 - val_loss: 0.0115 - val_acc: 0.0000e+00\n",
      "Epoch 36/90\n",
      "1390/1390 [==============================] - 0s - loss: 0.0011 - acc: 7.1942e-04 - val_loss: 0.0108 - val_acc: 0.0000e+00\n",
      "Epoch 37/90\n",
      "1390/1390 [==============================] - 0s - loss: 0.0011 - acc: 7.1942e-04 - val_loss: 0.0119 - val_acc: 0.0000e+00\n",
      "Epoch 38/90\n",
      "1390/1390 [==============================] - 0s - loss: 0.0010 - acc: 7.1942e-04 - val_loss: 0.0104 - val_acc: 0.0000e+00\n",
      "Epoch 39/90\n",
      "1390/1390 [==============================] - 0s - loss: 0.0011 - acc: 7.1942e-04 - val_loss: 0.0102 - val_acc: 0.0000e+00\n",
      "Epoch 40/90\n",
      "1390/1390 [==============================] - 0s - loss: 0.0011 - acc: 7.1942e-04 - val_loss: 0.0120 - val_acc: 0.0000e+00\n",
      "Epoch 41/90\n",
      "1390/1390 [==============================] - 0s - loss: 0.0010 - acc: 7.1942e-04 - val_loss: 0.0090 - val_acc: 0.0000e+00\n",
      "Epoch 42/90\n",
      "1390/1390 [==============================] - 0s - loss: 0.0010 - acc: 7.1942e-04 - val_loss: 0.0104 - val_acc: 0.0000e+00\n",
      "Epoch 43/90\n",
      "1390/1390 [==============================] - 0s - loss: 0.0010 - acc: 7.1942e-04 - val_loss: 0.0095 - val_acc: 0.0000e+00\n",
      "Epoch 44/90\n",
      "1390/1390 [==============================] - 0s - loss: 0.0010 - acc: 7.1942e-04 - val_loss: 0.0094 - val_acc: 0.0000e+00\n",
      "Epoch 45/90\n",
      "1390/1390 [==============================] - 0s - loss: 0.0010 - acc: 7.1942e-04 - val_loss: 0.0102 - val_acc: 0.0000e+00\n",
      "Epoch 46/90\n",
      "1390/1390 [==============================] - 0s - loss: 9.9685e-04 - acc: 7.1942e-04 - val_loss: 0.0083 - val_acc: 0.0000e+00\n",
      "Epoch 47/90\n",
      "1390/1390 [==============================] - 0s - loss: 0.0011 - acc: 7.1942e-04 - val_loss: 0.0109 - val_acc: 0.0000e+00\n",
      "Epoch 48/90\n",
      "1390/1390 [==============================] - 0s - loss: 9.8471e-04 - acc: 7.1942e-04 - val_loss: 0.0091 - val_acc: 0.0000e+00\n",
      "Epoch 49/90\n",
      "1390/1390 [==============================] - 0s - loss: 0.0010 - acc: 7.1942e-04 - val_loss: 0.0101 - val_acc: 0.0000e+00\n",
      "Epoch 50/90\n",
      "1390/1390 [==============================] - 0s - loss: 9.2604e-04 - acc: 7.1942e-04 - val_loss: 0.0089 - val_acc: 0.0000e+00\n",
      "Epoch 51/90\n",
      "1390/1390 [==============================] - 0s - loss: 9.8966e-04 - acc: 7.1942e-04 - val_loss: 0.0102 - val_acc: 0.0000e+00\n",
      "Epoch 52/90\n",
      "1390/1390 [==============================] - 0s - loss: 9.4280e-04 - acc: 7.1942e-04 - val_loss: 0.0089 - val_acc: 0.0000e+00\n",
      "Epoch 53/90\n",
      "1390/1390 [==============================] - 0s - loss: 9.1270e-04 - acc: 7.1942e-04 - val_loss: 0.0100 - val_acc: 0.0000e+00\n",
      "Epoch 54/90\n",
      "1390/1390 [==============================] - 0s - loss: 9.4560e-04 - acc: 7.1942e-04 - val_loss: 0.0092 - val_acc: 0.0000e+00\n",
      "Epoch 55/90\n",
      "1390/1390 [==============================] - 0s - loss: 9.5912e-04 - acc: 7.1942e-04 - val_loss: 0.0092 - val_acc: 0.0000e+00\n",
      "Epoch 56/90\n",
      "1390/1390 [==============================] - 0s - loss: 9.8267e-04 - acc: 7.1942e-04 - val_loss: 0.0115 - val_acc: 0.0000e+00\n",
      "Epoch 57/90\n",
      "1390/1390 [==============================] - 0s - loss: 8.9181e-04 - acc: 7.1942e-04 - val_loss: 0.0095 - val_acc: 0.0000e+00\n",
      "Epoch 58/90\n",
      "1390/1390 [==============================] - 0s - loss: 9.2555e-04 - acc: 7.1942e-04 - val_loss: 0.0129 - val_acc: 0.0000e+00\n",
      "Epoch 59/90\n",
      "1390/1390 [==============================] - 0s - loss: 9.7021e-04 - acc: 7.1942e-04 - val_loss: 0.0102 - val_acc: 0.0000e+00\n",
      "Epoch 60/90\n",
      "1390/1390 [==============================] - 0s - loss: 9.3947e-04 - acc: 7.1942e-04 - val_loss: 0.0097 - val_acc: 0.0000e+00\n",
      "Epoch 61/90\n"
     ]
    },
    {
     "name": "stdout",
     "output_type": "stream",
     "text": [
      "1390/1390 [==============================] - 0s - loss: 9.0175e-04 - acc: 7.1942e-04 - val_loss: 0.0136 - val_acc: 0.0000e+00\n",
      "Epoch 62/90\n",
      "1390/1390 [==============================] - 0s - loss: 9.4754e-04 - acc: 7.1942e-04 - val_loss: 0.0063 - val_acc: 0.0000e+00\n",
      "Epoch 63/90\n",
      "1390/1390 [==============================] - 0s - loss: 9.6204e-04 - acc: 7.1942e-04 - val_loss: 0.0116 - val_acc: 0.0000e+00\n",
      "Epoch 64/90\n",
      "1390/1390 [==============================] - 0s - loss: 9.0050e-04 - acc: 7.1942e-04 - val_loss: 0.0077 - val_acc: 0.0000e+00\n",
      "Epoch 65/90\n",
      "1390/1390 [==============================] - 0s - loss: 8.7532e-04 - acc: 7.1942e-04 - val_loss: 0.0092 - val_acc: 0.0000e+00\n",
      "Epoch 66/90\n",
      "1390/1390 [==============================] - 0s - loss: 8.2460e-04 - acc: 7.1942e-04 - val_loss: 0.0102 - val_acc: 0.0000e+00\n",
      "Epoch 67/90\n",
      "1390/1390 [==============================] - 0s - loss: 8.4181e-04 - acc: 7.1942e-04 - val_loss: 0.0086 - val_acc: 0.0000e+00\n",
      "Epoch 68/90\n",
      "1390/1390 [==============================] - 0s - loss: 8.3071e-04 - acc: 7.1942e-04 - val_loss: 0.0101 - val_acc: 0.0000e+00\n",
      "Epoch 69/90\n",
      "1390/1390 [==============================] - 0s - loss: 9.0761e-04 - acc: 7.1942e-04 - val_loss: 0.0094 - val_acc: 0.0000e+00\n",
      "Epoch 70/90\n",
      "1390/1390 [==============================] - 0s - loss: 8.4809e-04 - acc: 7.1942e-04 - val_loss: 0.0075 - val_acc: 0.0000e+00\n",
      "Epoch 71/90\n",
      "1390/1390 [==============================] - 0s - loss: 8.9364e-04 - acc: 7.1942e-04 - val_loss: 0.0080 - val_acc: 0.0000e+00\n",
      "Epoch 72/90\n",
      "1390/1390 [==============================] - 0s - loss: 8.9209e-04 - acc: 7.1942e-04 - val_loss: 0.0096 - val_acc: 0.0000e+00\n",
      "Epoch 73/90\n",
      "1390/1390 [==============================] - 0s - loss: 8.7534e-04 - acc: 7.1942e-04 - val_loss: 0.0064 - val_acc: 0.0000e+00\n",
      "Epoch 74/90\n",
      "1390/1390 [==============================] - 0s - loss: 9.2034e-04 - acc: 7.1942e-04 - val_loss: 0.0089 - val_acc: 0.0000e+00\n",
      "Epoch 75/90\n",
      "1390/1390 [==============================] - 0s - loss: 7.7221e-04 - acc: 7.1942e-04 - val_loss: 0.0088 - val_acc: 0.0000e+00\n",
      "Epoch 76/90\n",
      "1390/1390 [==============================] - 0s - loss: 8.5678e-04 - acc: 7.1942e-04 - val_loss: 0.0094 - val_acc: 0.0000e+00\n",
      "Epoch 77/90\n",
      "1390/1390 [==============================] - 0s - loss: 8.6240e-04 - acc: 7.1942e-04 - val_loss: 0.0073 - val_acc: 0.0000e+00\n",
      "Epoch 78/90\n",
      "1390/1390 [==============================] - 0s - loss: 8.4247e-04 - acc: 7.1942e-04 - val_loss: 0.0086 - val_acc: 0.0000e+00\n",
      "Epoch 79/90\n",
      "1390/1390 [==============================] - 0s - loss: 8.4010e-04 - acc: 7.1942e-04 - val_loss: 0.0086 - val_acc: 0.0000e+00\n",
      "Epoch 80/90\n",
      "1390/1390 [==============================] - 0s - loss: 8.6276e-04 - acc: 7.1942e-04 - val_loss: 0.0089 - val_acc: 0.0000e+00\n",
      "Epoch 81/90\n",
      "1390/1390 [==============================] - 0s - loss: 7.8564e-04 - acc: 7.1942e-04 - val_loss: 0.0095 - val_acc: 0.0000e+00\n",
      "Epoch 82/90\n",
      "1390/1390 [==============================] - 0s - loss: 8.7559e-04 - acc: 7.1942e-04 - val_loss: 0.0087 - val_acc: 0.0000e+00\n",
      "Epoch 83/90\n",
      "1390/1390 [==============================] - 0s - loss: 8.7758e-04 - acc: 7.1942e-04 - val_loss: 0.0091 - val_acc: 0.0000e+00\n",
      "Epoch 84/90\n",
      "1390/1390 [==============================] - 0s - loss: 8.3115e-04 - acc: 7.1942e-04 - val_loss: 0.0092 - val_acc: 0.0000e+00\n",
      "Epoch 85/90\n",
      "1390/1390 [==============================] - 0s - loss: 8.2930e-04 - acc: 7.1942e-04 - val_loss: 0.0043 - val_acc: 0.0000e+00\n",
      "Epoch 86/90\n",
      "1390/1390 [==============================] - 0s - loss: 9.0720e-04 - acc: 7.1942e-04 - val_loss: 0.0043 - val_acc: 0.0000e+00\n",
      "Epoch 87/90\n",
      "1390/1390 [==============================] - 0s - loss: 9.1231e-04 - acc: 7.1942e-04 - val_loss: 0.0140 - val_acc: 0.0000e+00\n",
      "Epoch 88/90\n",
      "1390/1390 [==============================] - 0s - loss: 0.0010 - acc: 7.1942e-04 - val_loss: 0.0055 - val_acc: 0.0000e+00\n",
      "Epoch 89/90\n",
      "1390/1390 [==============================] - 0s - loss: 9.7484e-04 - acc: 7.1942e-04 - val_loss: 0.0074 - val_acc: 0.0000e+00\n",
      "Epoch 90/90\n",
      "1390/1390 [==============================] - 0s - loss: 9.4911e-04 - acc: 7.1942e-04 - val_loss: 0.0105 - val_acc: 0.0000e+00\n"
     ]
    },
    {
     "data": {
      "text/plain": [
       "<keras.callbacks.History at 0x7efe3a9bd510>"
      ]
     },
     "execution_count": 33,
     "metadata": {},
     "output_type": "execute_result"
    }
   ],
   "source": [
    "model.fit(X_train,y_train,batch_size=512,epochs=90,validation_split=0.1,verbose=1)"
   ]
  },
  {
   "cell_type": "code",
   "execution_count": 13,
   "metadata": {},
   "outputs": [],
   "source": [
    "model.save('models/model_google.h5')"
   ]
  },
  {
   "cell_type": "code",
   "execution_count": 34,
   "metadata": {},
   "outputs": [],
   "source": [
    "p = model.predict(X_test)"
   ]
  },
  {
   "cell_type": "code",
   "execution_count": 35,
   "metadata": {},
   "outputs": [],
   "source": [
    "df = pandas.read_csv(\"../nyse/prices-split-adjusted.csv\", index_col = 0)\n",
    "df = df[df.symbol == 'GOOG']\n",
    "df[\"adj close\"] = df.close # Moving close to the last column\n",
    "df.drop(['close'], 1, inplace=True) # Moving close to the last column\n",
    "df.drop(['symbol'],1,inplace=True)\n",
    "\n",
    "# Bug fixed at here, please update the denormalize function to this one\n",
    "def denormalize(df, normalized_value): \n",
    "    df = df['adj close'].values.reshape(-1,1)\n",
    "    normalized_value = normalized_value.reshape(-1,1)\n",
    "    \n",
    "    #return df.shape, p.shape\n",
    "    min_max_scaler = preprocessing.MinMaxScaler()\n",
    "    a = min_max_scaler.fit_transform(df)\n",
    "    new = min_max_scaler.inverse_transform(normalized_value)\n",
    "    return new\n",
    "\n",
    "newp = denormalize(df, p)\n",
    "newy_test = denormalize(df, y_test)\n",
    "# newp = p\n",
    "# newy_test = y_test"
   ]
  },
  {
   "cell_type": "code",
   "execution_count": 36,
   "metadata": {},
   "outputs": [
    {
     "data": {
      "image/png": "[encoded data removed]",
      "text/plain": [
       "<matplotlib.figure.Figure at 0x7efe39745750>"
      ]
     },
     "metadata": {},
     "output_type": "display_data"
    }
   ],
   "source": [
    "plt.plot(newp,color='red', label='Prediction')\n",
    "plt.plot(newy_test,color='blue', label='Actual')\n",
    "plt.savefig('../graph/google_window44.png')"
   ]
  },
  {
   "cell_type": "code",
   "execution_count": 37,
   "metadata": {},
   "outputs": [],
   "source": [
    "def model_score(model, X_train, y_train, X_test, y_test):\n",
    "    trainScore = model.evaluate(X_train, y_train, verbose=0)\n",
    "    print('Train Score: %.5f MSE (%.2f RMSE)' % (trainScore[0], math.sqrt(trainScore[0])))\n",
    "\n",
    "    testScore = model.evaluate(X_test, y_test, verbose=0)\n",
    "    print('Test Score: %.5f MSE (%.2f RMSE)' % (testScore[0], math.sqrt(testScore[0])))\n",
    "    return trainScore[0], testScore[0]"
   ]
  },
  {
   "cell_type": "code",
   "execution_count": 38,
   "metadata": {},
   "outputs": [
    {
     "name": "stdout",
     "output_type": "stream",
     "text": [
      "Train Score: 0.00162 MSE (0.04 RMSE)\n",
      "Test Score: 0.01710 MSE (0.13 RMSE)\n"
     ]
    },
    {
     "data": {
      "text/plain": [
       "(0.0016213618610717332, 0.017102164887758189)"
      ]
     },
     "execution_count": 38,
     "metadata": {},
     "output_type": "execute_result"
    }
   ],
   "source": [
    "model_score(model, X_train, y_train, X_test, y_test)"
   ]
  },
  {
   "cell_type": "code",
   "execution_count": null,
   "metadata": {},
   "outputs": [],
   "source": []
  }
 ],
 "metadata": {
  "kernelspec": {
   "display_name": "Python 2",
   "language": "python",
   "name": "python2"
  },
  "language_info": {
   "codemirror_mode": {
    "name": "ipython",
    "version": 2
   },
   "file_extension": ".py",
   "mimetype": "text/x-python",
   "name": "python",
   "nbconvert_exporter": "python",
   "pygments_lexer": "ipython2",
   "version": "2.7.14"
  }
 },
 "nbformat": 4,
 "nbformat_minor": 1
}
