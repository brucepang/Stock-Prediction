{
 "cells": [
  {
   "cell_type": "code",
   "execution_count": 16,
   "metadata": {},
   "outputs": [],
   "source": [
    "import pandas\n",
    "import numpy as np\n",
    "%matplotlib inline\n",
    "import matplotlib.pyplot as plt\n",
    "import time\n",
    "import keras\n",
    "from keras.models import Sequential\n",
    "from keras.layers.core import Dense, Dropout, Activation\n",
    "from keras.layers.recurrent import LSTM\n",
    "from keras.models import load_model\n",
    "import keras\n",
    "from sklearn import preprocessing\n",
    "import tensorflow as tf\n",
    "import math"
   ]
  },
  {
   "cell_type": "code",
   "execution_count": 17,
   "metadata": {},
   "outputs": [
    {
     "name": "stdout",
     "output_type": "stream",
     "text": [
      "[[ 22.  28.]\n",
      " [ 49.  64.]]\n"
     ]
    }
   ],
   "source": [
    "# Creates a graph.\n",
    "a = tf.constant([1.0, 2.0, 3.0, 4.0, 5.0, 6.0], shape=[2, 3], name='a')\n",
    "b = tf.constant([1.0, 2.0, 3.0, 4.0, 5.0, 6.0], shape=[3, 2], name='b')\n",
    "c = tf.matmul(a, b)\n",
    "# Creates a session with log_device_placement set to True.\n",
    "sess = tf.Session(config=tf.ConfigProto(log_device_placement=True))\n",
    "# Runs the op.\n",
    "print(sess.run(c))"
   ]
  },
  {
   "cell_type": "code",
   "execution_count": 18,
   "metadata": {},
   "outputs": [],
   "source": [
    "def build_model(layers):\n",
    "    d = 0.3\n",
    "    model = Sequential()\n",
    "    \n",
    "    model.add(LSTM(256, input_shape=(layers[1], layers[0]), return_sequences=True))\n",
    "    model.add(Dropout(d))\n",
    "        \n",
    "    model.add(LSTM(256, input_shape=(layers[1], layers[0]), return_sequences=False))\n",
    "    model.add(Dropout(d))\n",
    "        \n",
    "    model.add(Dense(32,kernel_initializer=\"uniform\",activation='relu'))        \n",
    "    model.add(Dense(1,kernel_initializer=\"uniform\",activation='linear'))\n",
    "    \n",
    "    # adam = keras.optimizers.Adam(decay=0.2)\n",
    "        \n",
    "    start = time.time()\n",
    "    model.compile(loss='mse',optimizer='adam', metrics=['accuracy'])\n",
    "    print(\"Compilation Time : \", time.time() - start)\n",
    "    return model"
   ]
  },
  {
   "cell_type": "code",
   "execution_count": 19,
   "metadata": {},
   "outputs": [],
   "source": [
    "df = pandas.read_csv(\"../nyse/prices-split-adjusted.csv\",index_col = 0)\n",
    "df = df[df.symbol == 'ADBE']\n",
    "df[\"adj close\"] = df.close # Moving close to the last column\n",
    "df.drop(['close'], 1, inplace=True) # Moving close to the last column\n",
    "df.drop(['symbol'],1,inplace=True)"
   ]
  },
  {
   "cell_type": "code",
   "execution_count": 20,
   "metadata": {},
   "outputs": [],
   "source": [
    "def normalize_data(df):\n",
    "    min_max_scaler = preprocessing.MinMaxScaler()\n",
    "    df['open'] = min_max_scaler.fit_transform(df.open.values.reshape(-1,1))\n",
    "    df['high'] = min_max_scaler.fit_transform(df.high.values.reshape(-1,1))\n",
    "    df['low'] = min_max_scaler.fit_transform(df.low.values.reshape(-1,1))\n",
    "    df['volume'] = min_max_scaler.fit_transform(df.volume.values.reshape(-1,1))\n",
    "    df['adj close'] = min_max_scaler.fit_transform(df['adj close'].values.reshape(-1,1))\n",
    "    return df\n",
    "df = normalize_data(df)"
   ]
  },
  {
   "cell_type": "code",
   "execution_count": 21,
   "metadata": {},
   "outputs": [],
   "source": [
    "def load_data(stock, seq_len):\n",
    "    amount_of_features = len(stock.columns) # 5\n",
    "    data = stock.as_matrix() \n",
    "    sequence_length = seq_len + 1 # index starting from 0\n",
    "    result = []\n",
    "    \n",
    "    for index in range(len(data) - sequence_length): # maxmimum date = lastest date - sequence length\n",
    "        result.append(data[index: index + sequence_length]) # index : index + 22days\n",
    "    \n",
    "    result = np.array(result)\n",
    "    row = round(0.9 * result.shape[0]) # 90% split\n",
    "    train = result[:int(row), :] # 90% date, all features \n",
    "    \n",
    "    x_train = train[:, :-1] \n",
    "    y_train = train[:, -1][:,-1]\n",
    "    \n",
    "    x_test = result[int(row):, :-1] \n",
    "    y_test = result[int(row):, -1][:,-1]\n",
    "\n",
    "    x_train = np.reshape(x_train, (x_train.shape[0], x_train.shape[1], amount_of_features))\n",
    "    x_test = np.reshape(x_test, (x_test.shape[0], x_test.shape[1], amount_of_features))  \n",
    "\n",
    "    return [x_train, y_train, x_test, y_test]"
   ]
  },
  {
   "cell_type": "code",
   "execution_count": 22,
   "metadata": {},
   "outputs": [],
   "source": [
    "window = 22\n",
    "X_train, y_train, X_test, y_test = load_data(df, window)"
   ]
  },
  {
   "cell_type": "code",
   "execution_count": 23,
   "metadata": {},
   "outputs": [
    {
     "name": "stdout",
     "output_type": "stream",
     "text": [
      "('Compilation Time : ', 0.02594900131225586)\n"
     ]
    }
   ],
   "source": [
    "model = build_model([5,window,1])"
   ]
  },
  {
   "cell_type": "code",
   "execution_count": 24,
   "metadata": {
    "scrolled": false
   },
   "outputs": [
    {
     "name": "stdout",
     "output_type": "stream",
     "text": [
      "Train on 1408 samples, validate on 157 samples\n",
      "Epoch 1/90\n",
      "1408/1408 [==============================] - 0s - loss: 0.1132 - acc: 7.1023e-04 - val_loss: 0.5224 - val_acc: 0.0000e+00\n",
      "Epoch 2/90\n",
      "1408/1408 [==============================] - 0s - loss: 0.0970 - acc: 7.1023e-04 - val_loss: 0.3178 - val_acc: 0.0000e+00\n",
      "Epoch 3/90\n",
      "1408/1408 [==============================] - 0s - loss: 0.0389 - acc: 7.1023e-04 - val_loss: 0.0843 - val_acc: 0.0000e+00\n",
      "Epoch 4/90\n",
      "1408/1408 [==============================] - 0s - loss: 0.0379 - acc: 7.1023e-04 - val_loss: 0.1150 - val_acc: 0.0000e+00\n",
      "Epoch 5/90\n",
      "1408/1408 [==============================] - 0s - loss: 0.0174 - acc: 7.1023e-04 - val_loss: 0.1487 - val_acc: 0.0000e+00\n",
      "Epoch 6/90\n",
      "1408/1408 [==============================] - 0s - loss: 0.0153 - acc: 7.1023e-04 - val_loss: 0.0256 - val_acc: 0.0000e+00\n",
      "Epoch 7/90\n",
      "1408/1408 [==============================] - 0s - loss: 0.0063 - acc: 7.1023e-04 - val_loss: 0.0081 - val_acc: 0.0000e+00\n",
      "Epoch 8/90\n",
      "1408/1408 [==============================] - 0s - loss: 0.0042 - acc: 7.1023e-04 - val_loss: 0.0380 - val_acc: 0.0000e+00\n",
      "Epoch 9/90\n",
      "1408/1408 [==============================] - 0s - loss: 0.0053 - acc: 7.1023e-04 - val_loss: 0.0392 - val_acc: 0.0000e+00\n",
      "Epoch 10/90\n",
      "1408/1408 [==============================] - 0s - loss: 0.0027 - acc: 7.1023e-04 - val_loss: 0.0214 - val_acc: 0.0000e+00\n",
      "Epoch 11/90\n",
      "1408/1408 [==============================] - 0s - loss: 0.0036 - acc: 7.1023e-04 - val_loss: 0.0255 - val_acc: 0.0000e+00\n",
      "Epoch 12/90\n",
      "1408/1408 [==============================] - 0s - loss: 0.0021 - acc: 7.1023e-04 - val_loss: 0.0427 - val_acc: 0.0000e+00\n",
      "Epoch 13/90\n",
      "1408/1408 [==============================] - 0s - loss: 0.0026 - acc: 7.1023e-04 - val_loss: 0.0402 - val_acc: 0.0000e+00\n",
      "Epoch 14/90\n",
      "1408/1408 [==============================] - 0s - loss: 0.0017 - acc: 7.1023e-04 - val_loss: 0.0234 - val_acc: 0.0000e+00\n",
      "Epoch 15/90\n",
      "1408/1408 [==============================] - 0s - loss: 0.0018 - acc: 7.1023e-04 - val_loss: 0.0174 - val_acc: 0.0000e+00\n",
      "Epoch 16/90\n",
      "1408/1408 [==============================] - 0s - loss: 0.0012 - acc: 7.1023e-04 - val_loss: 0.0202 - val_acc: 0.0000e+00\n",
      "Epoch 17/90\n",
      "1408/1408 [==============================] - 0s - loss: 0.0014 - acc: 7.1023e-04 - val_loss: 0.0129 - val_acc: 0.0000e+00\n",
      "Epoch 18/90\n",
      "1408/1408 [==============================] - 0s - loss: 0.0011 - acc: 7.1023e-04 - val_loss: 0.0079 - val_acc: 0.0000e+00\n",
      "Epoch 19/90\n",
      "1408/1408 [==============================] - 0s - loss: 0.0011 - acc: 7.1023e-04 - val_loss: 0.0113 - val_acc: 0.0000e+00\n",
      "Epoch 20/90\n",
      "1408/1408 [==============================] - 0s - loss: 0.0011 - acc: 7.1023e-04 - val_loss: 0.0073 - val_acc: 0.0000e+00\n",
      "Epoch 21/90\n",
      "1408/1408 [==============================] - 0s - loss: 0.0011 - acc: 7.1023e-04 - val_loss: 0.0060 - val_acc: 0.0000e+00\n",
      "Epoch 22/90\n",
      "1408/1408 [==============================] - 0s - loss: 0.0010 - acc: 7.1023e-04 - val_loss: 0.0089 - val_acc: 0.0000e+00\n",
      "Epoch 23/90\n",
      "1408/1408 [==============================] - 0s - loss: 9.7856e-04 - acc: 7.1023e-04 - val_loss: 0.0055 - val_acc: 0.0000e+00\n",
      "Epoch 24/90\n",
      "1408/1408 [==============================] - 0s - loss: 9.2469e-04 - acc: 7.1023e-04 - val_loss: 0.0064 - val_acc: 0.0000e+00\n",
      "Epoch 25/90\n",
      "1408/1408 [==============================] - 0s - loss: 9.1106e-04 - acc: 7.1023e-04 - val_loss: 0.0072 - val_acc: 0.0000e+00\n",
      "Epoch 26/90\n",
      "1408/1408 [==============================] - 0s - loss: 9.0701e-04 - acc: 7.1023e-04 - val_loss: 0.0057 - val_acc: 0.0000e+00\n",
      "Epoch 27/90\n",
      "1408/1408 [==============================] - 0s - loss: 9.0333e-04 - acc: 7.1023e-04 - val_loss: 0.0067 - val_acc: 0.0000e+00\n",
      "Epoch 28/90\n",
      "1408/1408 [==============================] - 0s - loss: 8.5352e-04 - acc: 7.1023e-04 - val_loss: 0.0058 - val_acc: 0.0000e+00\n",
      "Epoch 29/90\n",
      "1408/1408 [==============================] - 0s - loss: 8.5717e-04 - acc: 7.1023e-04 - val_loss: 0.0055 - val_acc: 0.0000e+00\n",
      "Epoch 30/90\n",
      "1408/1408 [==============================] - 0s - loss: 8.2141e-04 - acc: 7.1023e-04 - val_loss: 0.0054 - val_acc: 0.0000e+00\n",
      "Epoch 31/90\n",
      "1408/1408 [==============================] - 0s - loss: 8.2560e-04 - acc: 7.1023e-04 - val_loss: 0.0048 - val_acc: 0.0000e+00\n",
      "Epoch 32/90\n",
      "1408/1408 [==============================] - 0s - loss: 8.7247e-04 - acc: 7.1023e-04 - val_loss: 0.0052 - val_acc: 0.0000e+00\n",
      "Epoch 33/90\n",
      "1408/1408 [==============================] - 0s - loss: 8.2383e-04 - acc: 7.1023e-04 - val_loss: 0.0045 - val_acc: 0.0000e+00\n",
      "Epoch 34/90\n",
      "1408/1408 [==============================] - 0s - loss: 8.3224e-04 - acc: 7.1023e-04 - val_loss: 0.0050 - val_acc: 0.0000e+00\n",
      "Epoch 35/90\n",
      "1408/1408 [==============================] - 0s - loss: 8.1466e-04 - acc: 7.1023e-04 - val_loss: 0.0045 - val_acc: 0.0000e+00\n",
      "Epoch 36/90\n",
      "1408/1408 [==============================] - 0s - loss: 8.3739e-04 - acc: 7.1023e-04 - val_loss: 0.0040 - val_acc: 0.0000e+00\n",
      "Epoch 37/90\n",
      "1408/1408 [==============================] - 0s - loss: 8.5348e-04 - acc: 7.1023e-04 - val_loss: 0.0047 - val_acc: 0.0000e+00\n",
      "Epoch 38/90\n",
      "1408/1408 [==============================] - 0s - loss: 8.0636e-04 - acc: 7.1023e-04 - val_loss: 0.0036 - val_acc: 0.0000e+00\n",
      "Epoch 39/90\n",
      "1408/1408 [==============================] - 0s - loss: 8.6420e-04 - acc: 7.1023e-04 - val_loss: 0.0044 - val_acc: 0.0000e+00\n",
      "Epoch 40/90\n",
      "1408/1408 [==============================] - 0s - loss: 8.1547e-04 - acc: 7.1023e-04 - val_loss: 0.0037 - val_acc: 0.0000e+00\n",
      "Epoch 41/90\n",
      "1408/1408 [==============================] - 0s - loss: 8.4960e-04 - acc: 7.1023e-04 - val_loss: 0.0040 - val_acc: 0.0000e+00\n",
      "Epoch 42/90\n",
      "1408/1408 [==============================] - 0s - loss: 8.3504e-04 - acc: 7.1023e-04 - val_loss: 0.0041 - val_acc: 0.0000e+00\n",
      "Epoch 43/90\n",
      "1408/1408 [==============================] - 0s - loss: 8.0585e-04 - acc: 7.1023e-04 - val_loss: 0.0035 - val_acc: 0.0000e+00\n",
      "Epoch 44/90\n",
      "1408/1408 [==============================] - 0s - loss: 7.8356e-04 - acc: 7.1023e-04 - val_loss: 0.0041 - val_acc: 0.0000e+00\n",
      "Epoch 45/90\n",
      "1408/1408 [==============================] - 0s - loss: 8.0909e-04 - acc: 7.1023e-04 - val_loss: 0.0032 - val_acc: 0.0000e+00\n",
      "Epoch 46/90\n",
      "1408/1408 [==============================] - 0s - loss: 7.9852e-04 - acc: 7.1023e-04 - val_loss: 0.0037 - val_acc: 0.0000e+00\n",
      "Epoch 47/90\n",
      "1408/1408 [==============================] - 0s - loss: 7.5916e-04 - acc: 7.1023e-04 - val_loss: 0.0030 - val_acc: 0.0000e+00\n",
      "Epoch 48/90\n",
      "1408/1408 [==============================] - 0s - loss: 7.4362e-04 - acc: 7.1023e-04 - val_loss: 0.0035 - val_acc: 0.0000e+00\n",
      "Epoch 49/90\n",
      "1408/1408 [==============================] - 0s - loss: 7.2007e-04 - acc: 7.1023e-04 - val_loss: 0.0035 - val_acc: 0.0000e+00\n",
      "Epoch 50/90\n",
      "1408/1408 [==============================] - 0s - loss: 7.6516e-04 - acc: 7.1023e-04 - val_loss: 0.0035 - val_acc: 0.0000e+00\n",
      "Epoch 51/90\n",
      "1408/1408 [==============================] - 0s - loss: 7.8546e-04 - acc: 7.1023e-04 - val_loss: 0.0029 - val_acc: 0.0000e+00\n",
      "Epoch 52/90\n",
      "1408/1408 [==============================] - 0s - loss: 7.2104e-04 - acc: 7.1023e-04 - val_loss: 0.0034 - val_acc: 0.0000e+00\n",
      "Epoch 53/90\n",
      "1408/1408 [==============================] - 0s - loss: 7.3641e-04 - acc: 7.1023e-04 - val_loss: 0.0029 - val_acc: 0.0000e+00\n",
      "Epoch 54/90\n",
      "1408/1408 [==============================] - 0s - loss: 7.1658e-04 - acc: 7.1023e-04 - val_loss: 0.0036 - val_acc: 0.0000e+00\n",
      "Epoch 55/90\n",
      "1408/1408 [==============================] - 0s - loss: 7.5910e-04 - acc: 7.1023e-04 - val_loss: 0.0026 - val_acc: 0.0000e+00\n",
      "Epoch 56/90\n",
      "1408/1408 [==============================] - 0s - loss: 7.8329e-04 - acc: 7.1023e-04 - val_loss: 0.0038 - val_acc: 0.0000e+00\n",
      "Epoch 57/90\n",
      "1408/1408 [==============================] - 0s - loss: 7.4044e-04 - acc: 7.1023e-04 - val_loss: 0.0028 - val_acc: 0.0000e+00\n",
      "Epoch 58/90\n",
      "1408/1408 [==============================] - 0s - loss: 7.4385e-04 - acc: 7.1023e-04 - val_loss: 0.0032 - val_acc: 0.0000e+00\n",
      "Epoch 59/90\n",
      "1408/1408 [==============================] - 0s - loss: 7.4111e-04 - acc: 7.1023e-04 - val_loss: 0.0028 - val_acc: 0.0000e+00\n",
      "Epoch 60/90\n"
     ]
    },
    {
     "name": "stdout",
     "output_type": "stream",
     "text": [
      "1408/1408 [==============================] - 0s - loss: 7.1953e-04 - acc: 7.1023e-04 - val_loss: 0.0027 - val_acc: 0.0000e+00\n",
      "Epoch 61/90\n",
      "1408/1408 [==============================] - 0s - loss: 7.3632e-04 - acc: 7.1023e-04 - val_loss: 0.0030 - val_acc: 0.0000e+00\n",
      "Epoch 62/90\n",
      "1408/1408 [==============================] - 0s - loss: 7.4120e-04 - acc: 7.1023e-04 - val_loss: 0.0035 - val_acc: 0.0000e+00\n",
      "Epoch 63/90\n",
      "1408/1408 [==============================] - 0s - loss: 7.4009e-04 - acc: 7.1023e-04 - val_loss: 0.0024 - val_acc: 0.0000e+00\n",
      "Epoch 64/90\n",
      "1408/1408 [==============================] - 0s - loss: 7.8704e-04 - acc: 7.1023e-04 - val_loss: 0.0030 - val_acc: 0.0000e+00\n",
      "Epoch 65/90\n",
      "1408/1408 [==============================] - 0s - loss: 6.7662e-04 - acc: 7.1023e-04 - val_loss: 0.0029 - val_acc: 0.0000e+00\n",
      "Epoch 66/90\n",
      "1408/1408 [==============================] - 0s - loss: 7.1497e-04 - acc: 7.1023e-04 - val_loss: 0.0029 - val_acc: 0.0000e+00\n",
      "Epoch 67/90\n",
      "1408/1408 [==============================] - 0s - loss: 6.7861e-04 - acc: 7.1023e-04 - val_loss: 0.0026 - val_acc: 0.0000e+00\n",
      "Epoch 68/90\n",
      "1408/1408 [==============================] - 0s - loss: 7.0052e-04 - acc: 7.1023e-04 - val_loss: 0.0035 - val_acc: 0.0000e+00\n",
      "Epoch 69/90\n",
      "1408/1408 [==============================] - 0s - loss: 6.8926e-04 - acc: 7.1023e-04 - val_loss: 0.0030 - val_acc: 0.0000e+00\n",
      "Epoch 70/90\n",
      "1408/1408 [==============================] - 0s - loss: 7.3135e-04 - acc: 7.1023e-04 - val_loss: 0.0024 - val_acc: 0.0000e+00\n",
      "Epoch 71/90\n",
      "1408/1408 [==============================] - 0s - loss: 7.3136e-04 - acc: 7.1023e-04 - val_loss: 0.0031 - val_acc: 0.0000e+00\n",
      "Epoch 72/90\n",
      "1408/1408 [==============================] - 0s - loss: 6.9946e-04 - acc: 7.1023e-04 - val_loss: 0.0027 - val_acc: 0.0000e+00\n",
      "Epoch 73/90\n",
      "1408/1408 [==============================] - 0s - loss: 6.4875e-04 - acc: 7.1023e-04 - val_loss: 0.0021 - val_acc: 0.0000e+00\n",
      "Epoch 74/90\n",
      "1408/1408 [==============================] - 0s - loss: 7.1945e-04 - acc: 7.1023e-04 - val_loss: 0.0028 - val_acc: 0.0000e+00\n",
      "Epoch 75/90\n",
      "1408/1408 [==============================] - 0s - loss: 6.7706e-04 - acc: 7.1023e-04 - val_loss: 0.0023 - val_acc: 0.0000e+00\n",
      "Epoch 76/90\n",
      "1408/1408 [==============================] - 0s - loss: 6.6070e-04 - acc: 7.1023e-04 - val_loss: 0.0025 - val_acc: 0.0000e+00\n",
      "Epoch 77/90\n",
      "1408/1408 [==============================] - 0s - loss: 6.5542e-04 - acc: 7.1023e-04 - val_loss: 0.0029 - val_acc: 0.0000e+00\n",
      "Epoch 78/90\n",
      "1408/1408 [==============================] - 0s - loss: 6.4415e-04 - acc: 7.1023e-04 - val_loss: 0.0020 - val_acc: 0.0000e+00\n",
      "Epoch 79/90\n",
      "1408/1408 [==============================] - 0s - loss: 6.7310e-04 - acc: 7.1023e-04 - val_loss: 0.0048 - val_acc: 0.0000e+00\n",
      "Epoch 80/90\n",
      "1408/1408 [==============================] - 0s - loss: 7.5128e-04 - acc: 7.1023e-04 - val_loss: 0.0024 - val_acc: 0.0000e+00\n",
      "Epoch 81/90\n",
      "1408/1408 [==============================] - 0s - loss: 7.9655e-04 - acc: 7.1023e-04 - val_loss: 0.0018 - val_acc: 0.0000e+00\n",
      "Epoch 82/90\n",
      "1408/1408 [==============================] - 0s - loss: 7.6686e-04 - acc: 7.1023e-04 - val_loss: 0.0047 - val_acc: 0.0000e+00\n",
      "Epoch 83/90\n",
      "1408/1408 [==============================] - 0s - loss: 7.7622e-04 - acc: 7.1023e-04 - val_loss: 0.0024 - val_acc: 0.0000e+00\n",
      "Epoch 84/90\n",
      "1408/1408 [==============================] - 0s - loss: 8.0846e-04 - acc: 7.1023e-04 - val_loss: 0.0022 - val_acc: 0.0000e+00\n",
      "Epoch 85/90\n",
      "1408/1408 [==============================] - 0s - loss: 7.8253e-04 - acc: 7.1023e-04 - val_loss: 0.0049 - val_acc: 0.0000e+00\n",
      "Epoch 86/90\n",
      "1408/1408 [==============================] - 0s - loss: 7.5693e-04 - acc: 7.1023e-04 - val_loss: 0.0019 - val_acc: 0.0000e+00\n",
      "Epoch 87/90\n",
      "1408/1408 [==============================] - 0s - loss: 7.7609e-04 - acc: 7.1023e-04 - val_loss: 0.0028 - val_acc: 0.0000e+00\n",
      "Epoch 88/90\n",
      "1408/1408 [==============================] - 0s - loss: 6.8894e-04 - acc: 7.1023e-04 - val_loss: 0.0037 - val_acc: 0.0000e+00\n",
      "Epoch 89/90\n",
      "1408/1408 [==============================] - 0s - loss: 6.6640e-04 - acc: 7.1023e-04 - val_loss: 0.0022 - val_acc: 0.0000e+00\n",
      "Epoch 90/90\n",
      "1408/1408 [==============================] - 0s - loss: 6.2922e-04 - acc: 7.1023e-04 - val_loss: 0.0029 - val_acc: 0.0000e+00\n"
     ]
    },
    {
     "data": {
      "text/plain": [
       "<keras.callbacks.History at 0x7fc8ac023190>"
      ]
     },
     "execution_count": 24,
     "metadata": {},
     "output_type": "execute_result"
    }
   ],
   "source": [
    "model.fit(X_train,y_train,batch_size=512,epochs=90,validation_split=0.1,verbose=1)"
   ]
  },
  {
   "cell_type": "code",
   "execution_count": 25,
   "metadata": {},
   "outputs": [],
   "source": [
    "model.save('model_adobe.h5')"
   ]
  },
  {
   "cell_type": "code",
   "execution_count": 26,
   "metadata": {},
   "outputs": [],
   "source": [
    "p = model.predict(X_test)"
   ]
  },
  {
   "cell_type": "code",
   "execution_count": 27,
   "metadata": {},
   "outputs": [],
   "source": [
    "df = pandas.read_csv(\"../nyse/prices-split-adjusted.csv\", index_col = 0)\n",
    "df = df[df.symbol == 'ADBE']\n",
    "df[\"adj close\"] = df.close # Moving close to the last column\n",
    "df.drop(['close'], 1, inplace=True) # Moving close to the last column\n",
    "df.drop(['symbol'],1,inplace=True)\n",
    "\n",
    "# Bug fixed at here, please update the denormalize function to this one\n",
    "def denormalize(df, normalized_value): \n",
    "    df = df['adj close'].values.reshape(-1,1)\n",
    "    normalized_value = normalized_value.reshape(-1,1)\n",
    "    \n",
    "    #return df.shape, p.shape\n",
    "    min_max_scaler = preprocessing.MinMaxScaler()\n",
    "    a = min_max_scaler.fit_transform(df)\n",
    "    new = min_max_scaler.inverse_transform(normalized_value)\n",
    "    return new\n",
    "\n",
    "newp = denormalize(df, p)\n",
    "newy_test = denormalize(df, y_test)\n",
    "# newp = p\n",
    "# newy_test = y_test"
   ]
  },
  {
   "cell_type": "code",
   "execution_count": 28,
   "metadata": {},
   "outputs": [
    {
     "data": {
      "text/plain": [
       "[<matplotlib.lines.Line2D at 0x7fc7fa084710>]"
      ]
     },
     "execution_count": 28,
     "metadata": {},
     "output_type": "execute_result"
    },
    {
     "data": {
      "image/png": "[encoded data removed]",
      "text/plain": [
       "<matplotlib.figure.Figure at 0x7fca102c1d90>"
      ]
     },
     "metadata": {},
     "output_type": "display_data"
    }
   ],
   "source": [
    "plt.plot(newp,color='red', label='Prediction')\n",
    "plt.plot(newy_test,color='blue', label='Actual')"
   ]
  },
  {
   "cell_type": "code",
   "execution_count": 29,
   "metadata": {},
   "outputs": [],
   "source": [
    "def model_score(model, X_train, y_train, X_test, y_test):\n",
    "    trainScore = model.evaluate(X_train, y_train, verbose=0)\n",
    "    print('Train Score: %.5f MSE (%.2f RMSE)' % (trainScore[0], math.sqrt(trainScore[0])))\n",
    "\n",
    "    testScore = model.evaluate(X_test, y_test, verbose=0)\n",
    "    print('Test Score: %.5f MSE (%.2f RMSE)' % (testScore[0], math.sqrt(testScore[0])))\n",
    "    return trainScore[0], testScore[0]"
   ]
  },
  {
   "cell_type": "code",
   "execution_count": 30,
   "metadata": {},
   "outputs": [
    {
     "name": "stdout",
     "output_type": "stream",
     "text": [
      "Train Score: 0.00068 MSE (0.03 RMSE)\n",
      "Test Score: 0.00433 MSE (0.07 RMSE)\n"
     ]
    },
    {
     "data": {
      "text/plain": [
       "(0.00067727535735434899, 0.0043262041430791901)"
      ]
     },
     "execution_count": 30,
     "metadata": {},
     "output_type": "execute_result"
    }
   ],
   "source": [
    "model_score(model, X_train, y_train, X_test, y_test)"
   ]
  },
  {
   "cell_type": "code",
   "execution_count": null,
   "metadata": {},
   "outputs": [],
   "source": []
  }
 ],
 "metadata": {
  "kernelspec": {
   "display_name": "Python 2",
   "language": "python",
   "name": "python2"
  },
  "language_info": {
   "codemirror_mode": {
    "name": "ipython",
    "version": 2
   },
   "file_extension": ".py",
   "mimetype": "text/x-python",
   "name": "python",
   "nbconvert_exporter": "python",
   "pygments_lexer": "ipython2",
   "version": "2.7.14"
  }
 },
 "nbformat": 4,
 "nbformat_minor": 1
}
