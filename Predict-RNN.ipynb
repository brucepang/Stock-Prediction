{
 "cells": [
  {
   "cell_type": "code",
   "execution_count": 1,
   "metadata": {},
   "outputs": [
    {
     "name": "stderr",
     "output_type": "stream",
     "text": [
      "Using TensorFlow backend.\n"
     ]
    }
   ],
   "source": [
    "import pandas\n",
    "import numpy as np\n",
    "%matplotlib inline\n",
    "import matplotlib.pyplot as plt\n",
    "import time\n",
    "import keras\n",
    "from keras.models import Sequential\n",
    "from keras.layers.core import Dense, Dropout, Activation\n",
    "from keras.layers.recurrent import LSTM, SimpleRNN\n",
    "from keras.models import load_model\n",
    "import keras\n",
    "from sklearn import preprocessing\n",
    "import tensorflow as tf\n",
    "import math"
   ]
  },
  {
   "cell_type": "code",
   "execution_count": 5,
   "metadata": {},
   "outputs": [
    {
     "name": "stdout",
     "output_type": "stream",
     "text": [
      "[[ 22.  28.]\n",
      " [ 49.  64.]]\n"
     ]
    }
   ],
   "source": [
    "# Creates a graph.\n",
    "a = tf.constant([1.0, 2.0, 3.0, 4.0, 5.0, 6.0], shape=[2, 3], name='a')\n",
    "b = tf.constant([1.0, 2.0, 3.0, 4.0, 5.0, 6.0], shape=[3, 2], name='b')\n",
    "c = tf.matmul(a, b)\n",
    "# Creates a session with log_device_placement set to True.\n",
    "sess = tf.Session(config=tf.ConfigProto(log_device_placement=True))\n",
    "# Runs the op.\n",
    "print(sess.run(c))"
   ]
  },
  {
   "cell_type": "code",
   "execution_count": 2,
   "metadata": {},
   "outputs": [],
   "source": [
    "def build_model(layers):\n",
    "    d = 0.3\n",
    "    model = Sequential()\n",
    "    \n",
    "    model.add(SimpleRNN(256, input_shape=(layers[1], layers[0]), return_sequences=True))#(window,5)\n",
    "    model.add(Dropout(d))\n",
    "        \n",
    "    model.add(SimpleRNN(256, input_shape=(layers[1], layers[0]), return_sequences=False))\n",
    "    model.add(Dropout(d))\n",
    "        \n",
    "    model.add(Dense(32,kernel_initializer=\"uniform\",activation='relu'))        \n",
    "    model.add(Dense(1,kernel_initializer=\"uniform\",activation='linear'))\n",
    "    \n",
    "    # adam = keras.optimizers.Adam(decay=0.2)\n",
    "        \n",
    "    start = time.time()\n",
    "    model.compile(loss='mse',optimizer='adam', metrics=['accuracy'])\n",
    "    print(\"Compilation Time : \", time.time() - start)\n",
    "    return model"
   ]
  },
  {
   "cell_type": "code",
   "execution_count": 46,
   "metadata": {},
   "outputs": [],
   "source": [
    "df = pandas.read_csv(\"../nyse/prices-split-adjusted.csv\",index_col = 0)\n",
    "df = df[df.symbol == 'GOOG']\n",
    "df[\"adj close\"] = df.close # Moving close to the last column\n",
    "df.drop(['close'], 1, inplace=True) # Moving close to the last column\n",
    "df.drop(['symbol'],1,inplace=True)"
   ]
  },
  {
   "cell_type": "code",
   "execution_count": 47,
   "metadata": {},
   "outputs": [],
   "source": [
    "def normalize_data(df):\n",
    "    min_max_scaler = preprocessing.MinMaxScaler()\n",
    "    df['open'] = min_max_scaler.fit_transform(df.open.values.reshape(-1,1))\n",
    "    df['high'] = min_max_scaler.fit_transform(df.high.values.reshape(-1,1))\n",
    "    df['low'] = min_max_scaler.fit_transform(df.low.values.reshape(-1,1))\n",
    "    df['volume'] = min_max_scaler.fit_transform(df.volume.values.reshape(-1,1))\n",
    "    df['adj close'] = min_max_scaler.fit_transform(df['adj close'].values.reshape(-1,1))\n",
    "    return df\n",
    "df = normalize_data(df)"
   ]
  },
  {
   "cell_type": "code",
   "execution_count": 48,
   "metadata": {},
   "outputs": [],
   "source": [
    "def load_data(stock, seq_len):\n",
    "    amount_of_features = len(stock.columns) # 5\n",
    "    data = stock.as_matrix() \n",
    "    sequence_length = seq_len + 1 # index starting from 0\n",
    "    result = []\n",
    "    \n",
    "    for index in range(len(data) - sequence_length): # maxmimum date = lastest date - sequence length\n",
    "        result.append(data[index: index + sequence_length]) # index : index + 22days\n",
    "    \n",
    "    result = np.array(result)\n",
    "    row = round(0.9 * result.shape[0]) # 90% split\n",
    "    train = result[:int(row), :] # 90% date, all features \n",
    "    \n",
    "    x_train = train[:, :-1] \n",
    "    y_train = train[:, -1][:,-1]\n",
    "    \n",
    "    x_test = result[int(row):, :-1] \n",
    "    y_test = result[int(row):, -1][:,-1]\n",
    "\n",
    "    x_train = np.reshape(x_train, (x_train.shape[0], x_train.shape[1], amount_of_features))\n",
    "    x_test = np.reshape(x_test, (x_test.shape[0], x_test.shape[1], amount_of_features))  \n",
    "\n",
    "    return [x_train, y_train, x_test, y_test]"
   ]
  },
  {
   "cell_type": "code",
   "execution_count": 49,
   "metadata": {},
   "outputs": [],
   "source": [
    "window = 44\n",
    "X_train, y_train, X_test, y_test = load_data(df, window)"
   ]
  },
  {
   "cell_type": "code",
   "execution_count": null,
   "metadata": {},
   "outputs": [],
   "source": []
  },
  {
   "cell_type": "code",
   "execution_count": 50,
   "metadata": {},
   "outputs": [
    {
     "name": "stdout",
     "output_type": "stream",
     "text": [
      "('Compilation Time : ', 0.026207923889160156)\n"
     ]
    }
   ],
   "source": [
    "model = build_model([5,window,1])"
   ]
  },
  {
   "cell_type": "code",
   "execution_count": 51,
   "metadata": {
    "scrolled": false
   },
   "outputs": [
    {
     "name": "stdout",
     "output_type": "stream",
     "text": [
      "Train on 1390 samples, validate on 155 samples\n",
      "Epoch 1/90\n",
      "1390/1390 [==============================] - 0s - loss: 0.1017 - acc: 7.1942e-04 - val_loss: 0.2171 - val_acc: 0.0000e+00\n",
      "Epoch 2/90\n",
      "1390/1390 [==============================] - 0s - loss: 0.0429 - acc: 7.1942e-04 - val_loss: 0.1141 - val_acc: 0.0000e+00\n",
      "Epoch 3/90\n",
      "1390/1390 [==============================] - 0s - loss: 0.0184 - acc: 7.1942e-04 - val_loss: 0.0720 - val_acc: 0.0000e+00\n",
      "Epoch 4/90\n",
      "1390/1390 [==============================] - 0s - loss: 0.0087 - acc: 7.1942e-04 - val_loss: 0.0669 - val_acc: 0.0000e+00\n",
      "Epoch 5/90\n",
      "1390/1390 [==============================] - 0s - loss: 0.0054 - acc: 7.1942e-04 - val_loss: 0.0306 - val_acc: 0.0000e+00\n",
      "Epoch 6/90\n",
      "1390/1390 [==============================] - 0s - loss: 0.0032 - acc: 7.1942e-04 - val_loss: 0.0203 - val_acc: 0.0000e+00\n",
      "Epoch 7/90\n",
      "1390/1390 [==============================] - 0s - loss: 0.0029 - acc: 7.1942e-04 - val_loss: 0.0185 - val_acc: 0.0000e+00\n",
      "Epoch 8/90\n",
      "1390/1390 [==============================] - 0s - loss: 0.0025 - acc: 7.1942e-04 - val_loss: 0.0127 - val_acc: 0.0000e+00\n",
      "Epoch 9/90\n",
      "1390/1390 [==============================] - 0s - loss: 0.0025 - acc: 7.1942e-04 - val_loss: 0.0158 - val_acc: 0.0000e+00\n",
      "Epoch 10/90\n",
      "1390/1390 [==============================] - 0s - loss: 0.0023 - acc: 7.1942e-04 - val_loss: 0.0200 - val_acc: 0.0000e+00\n",
      "Epoch 11/90\n",
      "1390/1390 [==============================] - 0s - loss: 0.0021 - acc: 7.1942e-04 - val_loss: 0.0153 - val_acc: 0.0000e+00\n",
      "Epoch 12/90\n",
      "1390/1390 [==============================] - 0s - loss: 0.0019 - acc: 7.1942e-04 - val_loss: 0.0167 - val_acc: 0.0000e+00\n",
      "Epoch 13/90\n",
      "1390/1390 [==============================] - 0s - loss: 0.0018 - acc: 7.1942e-04 - val_loss: 0.0161 - val_acc: 0.0000e+00\n",
      "Epoch 14/90\n",
      "1390/1390 [==============================] - 0s - loss: 0.0017 - acc: 7.1942e-04 - val_loss: 0.0122 - val_acc: 0.0000e+00\n",
      "Epoch 15/90\n",
      "1390/1390 [==============================] - 0s - loss: 0.0017 - acc: 7.1942e-04 - val_loss: 0.0140 - val_acc: 0.0000e+00\n",
      "Epoch 16/90\n",
      "1390/1390 [==============================] - 0s - loss: 0.0017 - acc: 7.1942e-04 - val_loss: 0.0129 - val_acc: 0.0000e+00\n",
      "Epoch 17/90\n",
      "1390/1390 [==============================] - 0s - loss: 0.0015 - acc: 7.1942e-04 - val_loss: 0.0132 - val_acc: 0.0000e+00\n",
      "Epoch 18/90\n",
      "1390/1390 [==============================] - 0s - loss: 0.0015 - acc: 7.1942e-04 - val_loss: 0.0152 - val_acc: 0.0000e+00\n",
      "Epoch 19/90\n",
      "1390/1390 [==============================] - 0s - loss: 0.0014 - acc: 7.1942e-04 - val_loss: 0.0123 - val_acc: 0.0000e+00\n",
      "Epoch 20/90\n",
      "1390/1390 [==============================] - 0s - loss: 0.0014 - acc: 7.1942e-04 - val_loss: 0.0147 - val_acc: 0.0000e+00\n",
      "Epoch 21/90\n",
      "1390/1390 [==============================] - 0s - loss: 0.0015 - acc: 7.1942e-04 - val_loss: 0.0164 - val_acc: 0.0000e+00\n",
      "Epoch 22/90\n",
      "1390/1390 [==============================] - 0s - loss: 0.0016 - acc: 7.1942e-04 - val_loss: 0.0132 - val_acc: 0.0000e+00\n",
      "Epoch 23/90\n",
      "1390/1390 [==============================] - 0s - loss: 0.0014 - acc: 7.1942e-04 - val_loss: 0.0147 - val_acc: 0.0000e+00\n",
      "Epoch 24/90\n",
      "1390/1390 [==============================] - 0s - loss: 0.0013 - acc: 7.1942e-04 - val_loss: 0.0142 - val_acc: 0.0000e+00\n",
      "Epoch 25/90\n",
      "1390/1390 [==============================] - 0s - loss: 0.0013 - acc: 7.1942e-04 - val_loss: 0.0142 - val_acc: 0.0000e+00\n",
      "Epoch 26/90\n",
      "1390/1390 [==============================] - 0s - loss: 0.0012 - acc: 7.1942e-04 - val_loss: 0.0150 - val_acc: 0.0000e+00\n",
      "Epoch 27/90\n",
      "1390/1390 [==============================] - 0s - loss: 0.0013 - acc: 7.1942e-04 - val_loss: 0.0132 - val_acc: 0.0000e+00\n",
      "Epoch 28/90\n",
      "1390/1390 [==============================] - 0s - loss: 0.0013 - acc: 7.1942e-04 - val_loss: 0.0156 - val_acc: 0.0000e+00\n",
      "Epoch 29/90\n",
      "1390/1390 [==============================] - 0s - loss: 0.0012 - acc: 7.1942e-04 - val_loss: 0.0140 - val_acc: 0.0000e+00\n",
      "Epoch 30/90\n",
      "1390/1390 [==============================] - 0s - loss: 0.0011 - acc: 7.1942e-04 - val_loss: 0.0162 - val_acc: 0.0000e+00\n",
      "Epoch 31/90\n",
      "1390/1390 [==============================] - 0s - loss: 0.0012 - acc: 7.1942e-04 - val_loss: 0.0139 - val_acc: 0.0000e+00\n",
      "Epoch 32/90\n",
      "1390/1390 [==============================] - 0s - loss: 0.0011 - acc: 7.1942e-04 - val_loss: 0.0127 - val_acc: 0.0000e+00\n",
      "Epoch 33/90\n",
      "1390/1390 [==============================] - 0s - loss: 0.0011 - acc: 7.1942e-04 - val_loss: 0.0171 - val_acc: 0.0000e+00\n",
      "Epoch 34/90\n",
      "1390/1390 [==============================] - 0s - loss: 0.0012 - acc: 7.1942e-04 - val_loss: 0.0140 - val_acc: 0.0000e+00\n",
      "Epoch 35/90\n",
      "1390/1390 [==============================] - 0s - loss: 0.0011 - acc: 7.1942e-04 - val_loss: 0.0136 - val_acc: 0.0000e+00\n",
      "Epoch 36/90\n",
      "1390/1390 [==============================] - 0s - loss: 0.0011 - acc: 7.1942e-04 - val_loss: 0.0157 - val_acc: 0.0000e+00\n",
      "Epoch 37/90\n",
      "1390/1390 [==============================] - 0s - loss: 0.0011 - acc: 7.1942e-04 - val_loss: 0.0150 - val_acc: 0.0000e+00\n",
      "Epoch 38/90\n",
      "1390/1390 [==============================] - 0s - loss: 0.0010 - acc: 7.1942e-04 - val_loss: 0.0143 - val_acc: 0.0000e+00\n",
      "Epoch 39/90\n",
      "1390/1390 [==============================] - 0s - loss: 0.0010 - acc: 7.1942e-04 - val_loss: 0.0146 - val_acc: 0.0000e+00\n",
      "Epoch 40/90\n",
      "1390/1390 [==============================] - 0s - loss: 0.0010 - acc: 7.1942e-04 - val_loss: 0.0156 - val_acc: 0.0000e+00\n",
      "Epoch 41/90\n",
      "1390/1390 [==============================] - 0s - loss: 0.0011 - acc: 7.1942e-04 - val_loss: 0.0125 - val_acc: 0.0000e+00\n",
      "Epoch 42/90\n",
      "1390/1390 [==============================] - 0s - loss: 0.0011 - acc: 7.1942e-04 - val_loss: 0.0130 - val_acc: 0.0000e+00\n",
      "Epoch 43/90\n",
      "1390/1390 [==============================] - 0s - loss: 0.0010 - acc: 7.1942e-04 - val_loss: 0.0135 - val_acc: 0.0000e+00\n",
      "Epoch 44/90\n",
      "1390/1390 [==============================] - 0s - loss: 9.5926e-04 - acc: 7.1942e-04 - val_loss: 0.0128 - val_acc: 0.0000e+00\n",
      "Epoch 45/90\n",
      "1390/1390 [==============================] - 0s - loss: 9.5915e-04 - acc: 7.1942e-04 - val_loss: 0.0131 - val_acc: 0.0000e+00\n",
      "Epoch 46/90\n",
      "1390/1390 [==============================] - 0s - loss: 9.7810e-04 - acc: 7.1942e-04 - val_loss: 0.0119 - val_acc: 0.0000e+00\n",
      "Epoch 47/90\n",
      "1390/1390 [==============================] - 0s - loss: 9.2991e-04 - acc: 7.1942e-04 - val_loss: 0.0134 - val_acc: 0.0000e+00\n",
      "Epoch 48/90\n",
      "1390/1390 [==============================] - 0s - loss: 9.4135e-04 - acc: 7.1942e-04 - val_loss: 0.0126 - val_acc: 0.0000e+00\n",
      "Epoch 49/90\n",
      "1390/1390 [==============================] - 0s - loss: 9.2972e-04 - acc: 7.1942e-04 - val_loss: 0.0108 - val_acc: 0.0000e+00\n",
      "Epoch 50/90\n",
      "1390/1390 [==============================] - 0s - loss: 9.3217e-04 - acc: 7.1942e-04 - val_loss: 0.0127 - val_acc: 0.0000e+00\n",
      "Epoch 51/90\n",
      "1390/1390 [==============================] - 0s - loss: 8.9494e-04 - acc: 7.1942e-04 - val_loss: 0.0120 - val_acc: 0.0000e+00\n",
      "Epoch 52/90\n",
      "1390/1390 [==============================] - 0s - loss: 8.4876e-04 - acc: 7.1942e-04 - val_loss: 0.0122 - val_acc: 0.0000e+00\n",
      "Epoch 53/90\n",
      "1390/1390 [==============================] - 0s - loss: 8.7527e-04 - acc: 7.1942e-04 - val_loss: 0.0114 - val_acc: 0.0000e+00\n",
      "Epoch 54/90\n",
      "1390/1390 [==============================] - 0s - loss: 8.7348e-04 - acc: 7.1942e-04 - val_loss: 0.0113 - val_acc: 0.0000e+00\n",
      "Epoch 55/90\n",
      "1390/1390 [==============================] - 0s - loss: 9.7494e-04 - acc: 7.1942e-04 - val_loss: 0.0107 - val_acc: 0.0000e+00\n",
      "Epoch 56/90\n",
      "1390/1390 [==============================] - 0s - loss: 9.8538e-04 - acc: 7.1942e-04 - val_loss: 0.0125 - val_acc: 0.0000e+00\n",
      "Epoch 57/90\n",
      "1390/1390 [==============================] - 0s - loss: 8.9773e-04 - acc: 7.1942e-04 - val_loss: 0.0128 - val_acc: 0.0000e+00\n",
      "Epoch 58/90\n",
      "1390/1390 [==============================] - 0s - loss: 9.9043e-04 - acc: 7.1942e-04 - val_loss: 0.0126 - val_acc: 0.0000e+00\n",
      "Epoch 59/90\n",
      "1390/1390 [==============================] - 0s - loss: 9.2328e-04 - acc: 7.1942e-04 - val_loss: 0.0109 - val_acc: 0.0000e+00\n",
      "Epoch 60/90\n",
      "1390/1390 [==============================] - 0s - loss: 9.5982e-04 - acc: 7.1942e-04 - val_loss: 0.0113 - val_acc: 0.0000e+00\n",
      "Epoch 61/90\n"
     ]
    },
    {
     "name": "stdout",
     "output_type": "stream",
     "text": [
      "1390/1390 [==============================] - 0s - loss: 8.7969e-04 - acc: 7.1942e-04 - val_loss: 0.0126 - val_acc: 0.0000e+00\n",
      "Epoch 62/90\n",
      "1390/1390 [==============================] - 0s - loss: 8.2795e-04 - acc: 7.1942e-04 - val_loss: 0.0117 - val_acc: 0.0000e+00\n",
      "Epoch 63/90\n",
      "1390/1390 [==============================] - 0s - loss: 8.4621e-04 - acc: 7.1942e-04 - val_loss: 0.0126 - val_acc: 0.0000e+00\n",
      "Epoch 64/90\n",
      "1390/1390 [==============================] - 0s - loss: 8.2964e-04 - acc: 7.1942e-04 - val_loss: 0.0119 - val_acc: 0.0000e+00\n",
      "Epoch 65/90\n",
      "1390/1390 [==============================] - 0s - loss: 8.3203e-04 - acc: 7.1942e-04 - val_loss: 0.0104 - val_acc: 0.0000e+00\n",
      "Epoch 66/90\n",
      "1390/1390 [==============================] - 0s - loss: 8.1036e-04 - acc: 7.1942e-04 - val_loss: 0.0104 - val_acc: 0.0000e+00\n",
      "Epoch 67/90\n",
      "1390/1390 [==============================] - 0s - loss: 8.1502e-04 - acc: 7.1942e-04 - val_loss: 0.0105 - val_acc: 0.0000e+00\n",
      "Epoch 68/90\n",
      "1390/1390 [==============================] - 0s - loss: 8.4933e-04 - acc: 7.1942e-04 - val_loss: 0.0124 - val_acc: 0.0000e+00\n",
      "Epoch 69/90\n",
      "1390/1390 [==============================] - 0s - loss: 9.1628e-04 - acc: 7.1942e-04 - val_loss: 0.0106 - val_acc: 0.0000e+00\n",
      "Epoch 70/90\n",
      "1390/1390 [==============================] - 0s - loss: 7.7458e-04 - acc: 7.1942e-04 - val_loss: 0.0091 - val_acc: 0.0000e+00\n",
      "Epoch 71/90\n",
      "1390/1390 [==============================] - 0s - loss: 7.5309e-04 - acc: 7.1942e-04 - val_loss: 0.0086 - val_acc: 0.0000e+00\n",
      "Epoch 72/90\n",
      "1390/1390 [==============================] - 0s - loss: 7.9364e-04 - acc: 7.1942e-04 - val_loss: 0.0098 - val_acc: 0.0000e+00\n",
      "Epoch 73/90\n",
      "1390/1390 [==============================] - 0s - loss: 8.1905e-04 - acc: 7.1942e-04 - val_loss: 0.0104 - val_acc: 0.0000e+00\n",
      "Epoch 74/90\n",
      "1390/1390 [==============================] - 0s - loss: 8.1793e-04 - acc: 7.1942e-04 - val_loss: 0.0110 - val_acc: 0.0000e+00\n",
      "Epoch 75/90\n",
      "1390/1390 [==============================] - 0s - loss: 9.0406e-04 - acc: 7.1942e-04 - val_loss: 0.0096 - val_acc: 0.0000e+00\n",
      "Epoch 76/90\n",
      "1390/1390 [==============================] - 0s - loss: 8.1931e-04 - acc: 7.1942e-04 - val_loss: 0.0093 - val_acc: 0.0000e+00\n",
      "Epoch 77/90\n",
      "1390/1390 [==============================] - 0s - loss: 8.6829e-04 - acc: 7.1942e-04 - val_loss: 0.0087 - val_acc: 0.0000e+00\n",
      "Epoch 78/90\n",
      "1390/1390 [==============================] - 0s - loss: 8.1721e-04 - acc: 7.1942e-04 - val_loss: 0.0097 - val_acc: 0.0000e+00\n",
      "Epoch 79/90\n",
      "1390/1390 [==============================] - 0s - loss: 8.2375e-04 - acc: 7.1942e-04 - val_loss: 0.0114 - val_acc: 0.0000e+00\n",
      "Epoch 80/90\n",
      "1390/1390 [==============================] - 0s - loss: 8.7188e-04 - acc: 7.1942e-04 - val_loss: 0.0110 - val_acc: 0.0000e+00\n",
      "Epoch 81/90\n",
      "1390/1390 [==============================] - 0s - loss: 9.0896e-04 - acc: 7.1942e-04 - val_loss: 0.0108 - val_acc: 0.0000e+00\n",
      "Epoch 82/90\n",
      "1390/1390 [==============================] - 0s - loss: 8.2957e-04 - acc: 7.1942e-04 - val_loss: 0.0097 - val_acc: 0.0000e+00\n",
      "Epoch 83/90\n",
      "1390/1390 [==============================] - 0s - loss: 7.6979e-04 - acc: 7.1942e-04 - val_loss: 0.0119 - val_acc: 0.0000e+00\n",
      "Epoch 84/90\n",
      "1390/1390 [==============================] - 0s - loss: 7.6665e-04 - acc: 7.1942e-04 - val_loss: 0.0103 - val_acc: 0.0000e+00\n",
      "Epoch 85/90\n",
      "1390/1390 [==============================] - 0s - loss: 7.6952e-04 - acc: 7.1942e-04 - val_loss: 0.0101 - val_acc: 0.0000e+00\n",
      "Epoch 86/90\n",
      "1390/1390 [==============================] - 0s - loss: 7.5837e-04 - acc: 7.1942e-04 - val_loss: 0.0118 - val_acc: 0.0000e+00\n",
      "Epoch 87/90\n",
      "1390/1390 [==============================] - 0s - loss: 7.7969e-04 - acc: 7.1942e-04 - val_loss: 0.0103 - val_acc: 0.0000e+00\n",
      "Epoch 88/90\n",
      "1390/1390 [==============================] - 0s - loss: 7.1837e-04 - acc: 7.1942e-04 - val_loss: 0.0085 - val_acc: 0.0000e+00\n",
      "Epoch 89/90\n",
      "1390/1390 [==============================] - 0s - loss: 7.6328e-04 - acc: 7.1942e-04 - val_loss: 0.0101 - val_acc: 0.0000e+00\n",
      "Epoch 90/90\n",
      "1390/1390 [==============================] - 0s - loss: 7.2048e-04 - acc: 7.1942e-04 - val_loss: 0.0110 - val_acc: 0.0000e+00\n"
     ]
    },
    {
     "data": {
      "text/plain": [
       "<keras.callbacks.History at 0x7f7fcc3328d0>"
      ]
     },
     "execution_count": 51,
     "metadata": {},
     "output_type": "execute_result"
    }
   ],
   "source": [
    "model.fit(X_train,y_train,batch_size=512,epochs=90,validation_split=0.1,verbose=1)"
   ]
  },
  {
   "cell_type": "code",
   "execution_count": 25,
   "metadata": {},
   "outputs": [],
   "source": [
    "model.save('models/model_google.h5')"
   ]
  },
  {
   "cell_type": "code",
   "execution_count": 52,
   "metadata": {},
   "outputs": [],
   "source": [
    "p = model.predict(X_test)"
   ]
  },
  {
   "cell_type": "code",
   "execution_count": 40,
   "metadata": {},
   "outputs": [],
   "source": [
    "df = pandas.read_csv(\"../nyse/prices-split-adjusted.csv\", index_col = 0)\n",
    "df = df[df.symbol == 'GOOG']\n",
    "df[\"adj close\"] = df.close # Moving close to the last column\n",
    "df.drop(['close'], 1, inplace=True) # Moving close to the last column\n",
    "df.drop(['symbol'],1,inplace=True)\n",
    "\n",
    "# Bug fixed at here, please update the denormalize function to this one\n",
    "def denormalize(df, normalized_value): \n",
    "    df = df['adj close'].values.reshape(-1,1)\n",
    "    normalized_value = normalized_value.reshape(-1,1)\n",
    "    \n",
    "    #return df.shape, p.shape\n",
    "    min_max_scaler = preprocessing.MinMaxScaler()\n",
    "    a = min_max_scaler.fit_transform(df)\n",
    "    new = min_max_scaler.inverse_transform(normalized_value)\n",
    "    return new\n",
    "\n",
    "newp = denormalize(df, p)\n",
    "newy_test = denormalize(df, y_test)\n",
    "# newp = p\n",
    "# newy_test = y_test"
   ]
  },
  {
   "cell_type": "code",
   "execution_count": 53,
   "metadata": {},
   "outputs": [
    {
     "data": {
      "image/png": "[encoded data removed]",
      "text/plain": [
       "<matplotlib.figure.Figure at 0x7f7fac0a8390>"
      ]
     },
     "metadata": {},
     "output_type": "display_data"
    }
   ],
   "source": [
    "plt.plot(newp,color='red', label='Prediction')\n",
    "plt.plot(newy_test,color='blue', label='Actual')\n",
    "plt.savefig('../graph/google_2_RNN_window_44.png')"
   ]
  },
  {
   "cell_type": "code",
   "execution_count": 54,
   "metadata": {},
   "outputs": [],
   "source": [
    "def model_score(model, X_train, y_train, X_test, y_test):\n",
    "    trainScore = model.evaluate(X_train, y_train, verbose=0)\n",
    "    print('Train Score: %.5f MSE (%.2f RMSE)' % (trainScore[0], math.sqrt(trainScore[0])))\n",
    "\n",
    "    testScore = model.evaluate(X_test, y_test, verbose=0)\n",
    "    print('Test Score: %.5f MSE (%.2f RMSE)' % (testScore[0], math.sqrt(testScore[0])))\n",
    "    return trainScore[0], testScore[0]"
   ]
  },
  {
   "cell_type": "code",
   "execution_count": 55,
   "metadata": {},
   "outputs": [
    {
     "name": "stdout",
     "output_type": "stream",
     "text": [
      "Train Score: 0.00145 MSE (0.04 RMSE)\n",
      "Test Score: 0.02032 MSE (0.14 RMSE)\n"
     ]
    },
    {
     "data": {
      "text/plain": [
       "(0.0014491550466136157, 0.020321195122114447)"
      ]
     },
     "execution_count": 55,
     "metadata": {},
     "output_type": "execute_result"
    }
   ],
   "source": [
    "model_score(model, X_train, y_train, X_test, y_test)"
   ]
  },
  {
   "cell_type": "code",
   "execution_count": null,
   "metadata": {},
   "outputs": [],
   "source": []
  }
 ],
 "metadata": {
  "kernelspec": {
   "display_name": "Python 2",
   "language": "python",
   "name": "python2"
  },
  "language_info": {
   "codemirror_mode": {
    "name": "ipython",
    "version": 2
   },
   "file_extension": ".py",
   "mimetype": "text/x-python",
   "name": "python",
   "nbconvert_exporter": "python",
   "pygments_lexer": "ipython2",
   "version": "2.7.14"
  }
 },
 "nbformat": 4,
 "nbformat_minor": 1
}
