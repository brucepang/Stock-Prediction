{
 "cells": [
  {
   "cell_type": "code",
   "execution_count": 12,
   "metadata": {},
   "outputs": [],
   "source": [
    "import pandas\n",
    "import numpy as np\n",
    "%matplotlib inline\n",
    "import matplotlib.pyplot as plt\n",
    "import time\n",
    "import keras\n",
    "from keras.models import Sequential\n",
    "from keras.layers.core import Dense, Dropout, Activation\n",
    "from keras.layers.recurrent import LSTM\n",
    "from keras.models import load_model\n",
    "import keras\n",
    "from sklearn import preprocessing\n",
    "import tensorflow as tf\n",
    "import math"
   ]
  },
  {
   "cell_type": "code",
   "execution_count": 13,
   "metadata": {},
   "outputs": [
    {
     "name": "stdout",
     "output_type": "stream",
     "text": [
      "[[ 22.  28.]\n",
      " [ 49.  64.]]\n"
     ]
    }
   ],
   "source": [
    "# Creates a graph.\n",
    "a = tf.constant([1.0, 2.0, 3.0, 4.0, 5.0, 6.0], shape=[2, 3], name='a')\n",
    "b = tf.constant([1.0, 2.0, 3.0, 4.0, 5.0, 6.0], shape=[3, 2], name='b')\n",
    "c = tf.matmul(a, b)\n",
    "# Creates a session with log_device_placement set to True.\n",
    "sess = tf.Session(config=tf.ConfigProto(log_device_placement=True))\n",
    "# Runs the op.\n",
    "print(sess.run(c))"
   ]
  },
  {
   "cell_type": "code",
   "execution_count": 14,
   "metadata": {},
   "outputs": [],
   "source": [
    "def build_model(layers):\n",
    "    d = 0.3\n",
    "    model = Sequential()\n",
    "    \n",
    "    model.add(LSTM(256, input_shape=(layers[1], layers[0]), return_sequences=True))\n",
    "    model.add(Dropout(d))\n",
    "        \n",
    "    model.add(LSTM(256, input_shape=(layers[1], layers[0]), return_sequences=False))\n",
    "    model.add(Dropout(d))\n",
    "        \n",
    "    model.add(Dense(32,kernel_initializer=\"uniform\",activation='relu'))        \n",
    "    model.add(Dense(1,kernel_initializer=\"uniform\",activation='linear'))\n",
    "    \n",
    "    # adam = keras.optimizers.Adam(decay=0.2)\n",
    "        \n",
    "    start = time.time()\n",
    "    model.compile(loss='mse',optimizer='adam', metrics=['accuracy'])\n",
    "    print(\"Compilation Time : \", time.time() - start)\n",
    "    return model"
   ]
  },
  {
   "cell_type": "code",
   "execution_count": 15,
   "metadata": {},
   "outputs": [],
   "source": [
    "df = pandas.read_csv(\"../nyse/prices-split-adjusted.csv\",index_col = 0)\n",
    "df = df[df.symbol == 'GOOG']\n",
    "df[\"adj close\"] = df.close # Moving close to the last column\n",
    "df.drop(['close'], 1, inplace=True) # Moving close to the last column\n",
    "df.drop(['symbol'],1,inplace=True)"
   ]
  },
  {
   "cell_type": "code",
   "execution_count": 16,
   "metadata": {},
   "outputs": [],
   "source": [
    "def normalize_data(df):\n",
    "    min_max_scaler = preprocessing.MinMaxScaler()\n",
    "    df['open'] = min_max_scaler.fit_transform(df.open.values.reshape(-1,1))\n",
    "    df['high'] = min_max_scaler.fit_transform(df.high.values.reshape(-1,1))\n",
    "    df['low'] = min_max_scaler.fit_transform(df.low.values.reshape(-1,1))\n",
    "    df['volume'] = min_max_scaler.fit_transform(df.volume.values.reshape(-1,1))\n",
    "    df['adj close'] = min_max_scaler.fit_transform(df['adj close'].values.reshape(-1,1))\n",
    "    return df\n",
    "df = normalize_data(df)"
   ]
  },
  {
   "cell_type": "code",
   "execution_count": 17,
   "metadata": {},
   "outputs": [],
   "source": [
    "def load_data(stock, seq_len):\n",
    "    amount_of_features = len(stock.columns) # 5\n",
    "    data = stock.as_matrix() \n",
    "    sequence_length = seq_len + 1 # index starting from 0\n",
    "    result = []\n",
    "    for index in range(len(data) - sequence_length): # maxmimum date = lastest date - sequence length\n",
    "        result.append(data[index: index + sequence_length]) # index : index + 22days\n",
    "    \n",
    "    result = np.array(result)\n",
    "    print result.shape\n",
    "    row = round(0.9 * result.shape[0]) # 90% split\n",
    "    train = result[:int(row), :] # 90% date, all features \n",
    "    x_train = train[:, :-1] \n",
    "    y_train = train[:, -1][:,-1]\n",
    "    x_test = result[int(row):, :-1] \n",
    "    y_test = result[int(row):, -1][:,-1]\n",
    "    print x_train[0:2]\n",
    "    print y_train[0]\n",
    "    x_train = np.reshape(x_train, (x_train.shape[0], x_train.shape[1], amount_of_features))\n",
    "    x_test = np.reshape(x_test, (x_test.shape[0], x_test.shape[1], amount_of_features))  \n",
    "\n",
    "    return [x_train, y_train, x_test, y_test]"
   ]
  },
  {
   "cell_type": "code",
   "execution_count": 18,
   "metadata": {},
   "outputs": [
    {
     "name": "stdout",
     "output_type": "stream",
     "text": [
      "(1757, 5, 5)\n",
      "[[[ 0.15704696  0.16116746  0.15638998  0.1317225   0.15939908]\n",
      "  [ 0.15723843  0.15888449  0.15499506  0.20246902  0.15709185]\n",
      "  [ 0.15613951  0.14604929  0.15334121  0.26818406  0.14394234]\n",
      "  [ 0.14243617  0.13445699  0.14009362  0.43252209  0.13210528]]\n",
      "\n",
      " [[ 0.15723843  0.15888449  0.15499506  0.20246902  0.15709185]\n",
      "  [ 0.15613951  0.14604929  0.15334121  0.26818406  0.14394234]\n",
      "  [ 0.14243617  0.13445699  0.14009362  0.43252209  0.13210528]\n",
      "  [ 0.12795029  0.13146379  0.13445546  0.3184921   0.13872603]]]\n",
      "0.138726029615\n"
     ]
    }
   ],
   "source": [
    "window = 4\n",
    "X_train, y_train, X_test, y_test = load_data(df, window)"
   ]
  },
  {
   "cell_type": "code",
   "execution_count": null,
   "metadata": {},
   "outputs": [],
   "source": []
  },
  {
   "cell_type": "code",
   "execution_count": 19,
   "metadata": {},
   "outputs": [
    {
     "name": "stdout",
     "output_type": "stream",
     "text": [
      "('Compilation Time : ', 0.028736114501953125)\n"
     ]
    }
   ],
   "source": [
    "model = build_model([5,window,1])"
   ]
  },
  {
   "cell_type": "code",
   "execution_count": 20,
   "metadata": {
    "scrolled": false
   },
   "outputs": [
    {
     "name": "stdout",
     "output_type": "stream",
     "text": [
      "Train on 1422 samples, validate on 159 samples\n",
      "Epoch 1/90\n",
      "1422/1422 [==============================] - 2s - loss: 0.1302 - acc: 7.0323e-04 - val_loss: 0.6317 - val_acc: 0.0000e+00\n",
      "Epoch 2/90\n",
      "1422/1422 [==============================] - 0s - loss: 0.1148 - acc: 7.0323e-04 - val_loss: 0.5113 - val_acc: 0.0000e+00\n",
      "Epoch 3/90\n",
      "1422/1422 [==============================] - 0s - loss: 0.0798 - acc: 7.0323e-04 - val_loss: 0.2319 - val_acc: 0.0000e+00\n",
      "Epoch 4/90\n",
      "1422/1422 [==============================] - 0s - loss: 0.0215 - acc: 7.0323e-04 - val_loss: 0.0190 - val_acc: 0.0000e+00\n",
      "Epoch 5/90\n",
      "1422/1422 [==============================] - 0s - loss: 0.0274 - acc: 7.0323e-04 - val_loss: 0.0028 - val_acc: 0.0000e+00\n",
      "Epoch 6/90\n",
      "1422/1422 [==============================] - 0s - loss: 0.0073 - acc: 7.0323e-04 - val_loss: 0.0611 - val_acc: 0.0000e+00\n",
      "Epoch 7/90\n",
      "1422/1422 [==============================] - 0s - loss: 0.0111 - acc: 7.0323e-04 - val_loss: 0.1040 - val_acc: 0.0000e+00\n",
      "Epoch 8/90\n",
      "1422/1422 [==============================] - 0s - loss: 0.0131 - acc: 7.0323e-04 - val_loss: 0.0617 - val_acc: 0.0000e+00\n",
      "Epoch 9/90\n",
      "1422/1422 [==============================] - 0s - loss: 0.0055 - acc: 7.0323e-04 - val_loss: 0.0077 - val_acc: 0.0000e+00\n",
      "Epoch 10/90\n",
      "1422/1422 [==============================] - 0s - loss: 0.0042 - acc: 7.0323e-04 - val_loss: 0.0021 - val_acc: 0.0000e+00\n",
      "Epoch 11/90\n",
      "1422/1422 [==============================] - 0s - loss: 0.0056 - acc: 7.0323e-04 - val_loss: 0.0022 - val_acc: 0.0000e+00\n",
      "Epoch 12/90\n",
      "1422/1422 [==============================] - 0s - loss: 0.0019 - acc: 7.0323e-04 - val_loss: 0.0186 - val_acc: 0.0000e+00\n",
      "Epoch 13/90\n",
      "1422/1422 [==============================] - 0s - loss: 0.0029 - acc: 7.0323e-04 - val_loss: 0.0209 - val_acc: 0.0000e+00\n",
      "Epoch 14/90\n",
      "1422/1422 [==============================] - 0s - loss: 0.0022 - acc: 7.0323e-04 - val_loss: 0.0049 - val_acc: 0.0000e+00\n",
      "Epoch 15/90\n",
      "1422/1422 [==============================] - 0s - loss: 0.0011 - acc: 7.0323e-04 - val_loss: 0.0012 - val_acc: 0.0000e+00\n",
      "Epoch 16/90\n",
      "1422/1422 [==============================] - 0s - loss: 0.0016 - acc: 7.0323e-04 - val_loss: 8.5134e-04 - val_acc: 0.0000e+00\n",
      "Epoch 17/90\n",
      "1422/1422 [==============================] - 0s - loss: 9.9308e-04 - acc: 7.0323e-04 - val_loss: 0.0038 - val_acc: 0.0000e+00\n",
      "Epoch 18/90\n",
      "1422/1422 [==============================] - 0s - loss: 0.0012 - acc: 7.0323e-04 - val_loss: 0.0047 - val_acc: 0.0000e+00\n",
      "Epoch 19/90\n",
      "1422/1422 [==============================] - 0s - loss: 0.0010 - acc: 7.0323e-04 - val_loss: 0.0012 - val_acc: 0.0000e+00\n",
      "Epoch 20/90\n",
      "1422/1422 [==============================] - 0s - loss: 8.7097e-04 - acc: 7.0323e-04 - val_loss: 9.1303e-04 - val_acc: 0.0000e+00\n",
      "Epoch 21/90\n",
      "1422/1422 [==============================] - 0s - loss: 0.0010 - acc: 7.0323e-04 - val_loss: 0.0011 - val_acc: 0.0000e+00\n",
      "Epoch 22/90\n",
      "1422/1422 [==============================] - 0s - loss: 8.1215e-04 - acc: 7.0323e-04 - val_loss: 0.0031 - val_acc: 0.0000e+00\n",
      "Epoch 23/90\n",
      "1422/1422 [==============================] - 0s - loss: 9.3809e-04 - acc: 7.0323e-04 - val_loss: 0.0029 - val_acc: 0.0000e+00\n",
      "Epoch 24/90\n",
      "1422/1422 [==============================] - 0s - loss: 9.1979e-04 - acc: 7.0323e-04 - val_loss: 0.0012 - val_acc: 0.0000e+00\n",
      "Epoch 25/90\n",
      "1422/1422 [==============================] - 0s - loss: 8.2982e-04 - acc: 7.0323e-04 - val_loss: 0.0011 - val_acc: 0.0000e+00\n",
      "Epoch 26/90\n",
      "1422/1422 [==============================] - 0s - loss: 7.8040e-04 - acc: 7.0323e-04 - val_loss: 0.0022 - val_acc: 0.0000e+00\n",
      "Epoch 27/90\n",
      "1422/1422 [==============================] - 0s - loss: 7.3488e-04 - acc: 7.0323e-04 - val_loss: 0.0033 - val_acc: 0.0000e+00\n",
      "Epoch 28/90\n",
      "1422/1422 [==============================] - 0s - loss: 7.8666e-04 - acc: 7.0323e-04 - val_loss: 0.0026 - val_acc: 0.0000e+00\n",
      "Epoch 29/90\n",
      "1422/1422 [==============================] - 0s - loss: 7.7348e-04 - acc: 7.0323e-04 - val_loss: 0.0019 - val_acc: 0.0000e+00\n",
      "Epoch 30/90\n",
      "1422/1422 [==============================] - 0s - loss: 8.1416e-04 - acc: 7.0323e-04 - val_loss: 0.0020 - val_acc: 0.0000e+00\n",
      "Epoch 31/90\n",
      "1422/1422 [==============================] - 0s - loss: 8.1624e-04 - acc: 7.0323e-04 - val_loss: 0.0028 - val_acc: 0.0000e+00\n",
      "Epoch 32/90\n",
      "1422/1422 [==============================] - 0s - loss: 8.0561e-04 - acc: 7.0323e-04 - val_loss: 0.0031 - val_acc: 0.0000e+00\n",
      "Epoch 33/90\n",
      "1422/1422 [==============================] - 0s - loss: 7.8356e-04 - acc: 7.0323e-04 - val_loss: 0.0023 - val_acc: 0.0000e+00\n",
      "Epoch 34/90\n",
      "1422/1422 [==============================] - 0s - loss: 7.2862e-04 - acc: 7.0323e-04 - val_loss: 0.0024 - val_acc: 0.0000e+00\n",
      "Epoch 35/90\n",
      "1422/1422 [==============================] - 0s - loss: 7.4924e-04 - acc: 7.0323e-04 - val_loss: 0.0023 - val_acc: 0.0000e+00\n",
      "Epoch 36/90\n",
      "1422/1422 [==============================] - 0s - loss: 7.4413e-04 - acc: 7.0323e-04 - val_loss: 0.0027 - val_acc: 0.0000e+00\n",
      "Epoch 37/90\n",
      "1422/1422 [==============================] - 0s - loss: 8.2708e-04 - acc: 7.0323e-04 - val_loss: 0.0029 - val_acc: 0.0000e+00\n",
      "Epoch 38/90\n",
      "1422/1422 [==============================] - 0s - loss: 7.7043e-04 - acc: 7.0323e-04 - val_loss: 0.0022 - val_acc: 0.0000e+00\n",
      "Epoch 39/90\n",
      "1422/1422 [==============================] - 0s - loss: 8.1038e-04 - acc: 7.0323e-04 - val_loss: 0.0020 - val_acc: 0.0000e+00\n",
      "Epoch 40/90\n",
      "1422/1422 [==============================] - 0s - loss: 7.6899e-04 - acc: 7.0323e-04 - val_loss: 0.0022 - val_acc: 0.0000e+00\n",
      "Epoch 41/90\n",
      "1422/1422 [==============================] - 0s - loss: 8.6848e-04 - acc: 7.0323e-04 - val_loss: 0.0026 - val_acc: 0.0000e+00\n",
      "Epoch 42/90\n",
      "1422/1422 [==============================] - 0s - loss: 7.8304e-04 - acc: 7.0323e-04 - val_loss: 0.0026 - val_acc: 0.0000e+00\n",
      "Epoch 43/90\n",
      "1422/1422 [==============================] - 0s - loss: 7.3045e-04 - acc: 7.0323e-04 - val_loss: 0.0021 - val_acc: 0.0000e+00\n",
      "Epoch 44/90\n",
      "1422/1422 [==============================] - 0s - loss: 7.2637e-04 - acc: 7.0323e-04 - val_loss: 0.0022 - val_acc: 0.0000e+00\n",
      "Epoch 45/90\n",
      "1422/1422 [==============================] - 0s - loss: 7.7543e-04 - acc: 7.0323e-04 - val_loss: 0.0027 - val_acc: 0.0000e+00\n",
      "Epoch 46/90\n",
      "1422/1422 [==============================] - 0s - loss: 7.2894e-04 - acc: 7.0323e-04 - val_loss: 0.0028 - val_acc: 0.0000e+00\n",
      "Epoch 47/90\n",
      "1422/1422 [==============================] - 0s - loss: 6.6934e-04 - acc: 7.0323e-04 - val_loss: 0.0025 - val_acc: 0.0000e+00\n",
      "Epoch 48/90\n",
      "1422/1422 [==============================] - 0s - loss: 7.9172e-04 - acc: 7.0323e-04 - val_loss: 0.0024 - val_acc: 0.0000e+00\n",
      "Epoch 49/90\n",
      "1422/1422 [==============================] - 0s - loss: 7.0954e-04 - acc: 7.0323e-04 - val_loss: 0.0025 - val_acc: 0.0000e+00\n",
      "Epoch 50/90\n",
      "1422/1422 [==============================] - 0s - loss: 7.8246e-04 - acc: 7.0323e-04 - val_loss: 0.0027 - val_acc: 0.0000e+00\n",
      "Epoch 51/90\n",
      "1422/1422 [==============================] - 0s - loss: 6.7825e-04 - acc: 7.0323e-04 - val_loss: 0.0026 - val_acc: 0.0000e+00\n",
      "Epoch 52/90\n",
      "1422/1422 [==============================] - 0s - loss: 7.1974e-04 - acc: 7.0323e-04 - val_loss: 0.0023 - val_acc: 0.0000e+00\n",
      "Epoch 53/90\n",
      "1422/1422 [==============================] - 0s - loss: 7.9769e-04 - acc: 7.0323e-04 - val_loss: 0.0028 - val_acc: 0.0000e+00\n",
      "Epoch 54/90\n",
      "1422/1422 [==============================] - 0s - loss: 7.4446e-04 - acc: 7.0323e-04 - val_loss: 0.0032 - val_acc: 0.0000e+00\n",
      "Epoch 55/90\n",
      "1422/1422 [==============================] - 0s - loss: 7.1572e-04 - acc: 7.0323e-04 - val_loss: 0.0025 - val_acc: 0.0000e+00\n",
      "Epoch 56/90\n",
      "1422/1422 [==============================] - 0s - loss: 7.6136e-04 - acc: 7.0323e-04 - val_loss: 0.0025 - val_acc: 0.0000e+00\n",
      "Epoch 57/90\n",
      "1422/1422 [==============================] - 0s - loss: 7.4229e-04 - acc: 7.0323e-04 - val_loss: 0.0027 - val_acc: 0.0000e+00\n",
      "Epoch 58/90\n",
      "1422/1422 [==============================] - 0s - loss: 7.5804e-04 - acc: 7.0323e-04 - val_loss: 0.0028 - val_acc: 0.0000e+00\n",
      "Epoch 59/90\n",
      "1422/1422 [==============================] - 0s - loss: 7.6046e-04 - acc: 7.0323e-04 - val_loss: 0.0027 - val_acc: 0.0000e+00\n",
      "Epoch 60/90\n"
     ]
    },
    {
     "name": "stdout",
     "output_type": "stream",
     "text": [
      "1422/1422 [==============================] - 0s - loss: 6.9921e-04 - acc: 7.0323e-04 - val_loss: 0.0027 - val_acc: 0.0000e+00\n",
      "Epoch 61/90\n",
      "1422/1422 [==============================] - 0s - loss: 7.3992e-04 - acc: 7.0323e-04 - val_loss: 0.0028 - val_acc: 0.0000e+00\n",
      "Epoch 62/90\n",
      "1422/1422 [==============================] - 0s - loss: 6.4806e-04 - acc: 7.0323e-04 - val_loss: 0.0028 - val_acc: 0.0000e+00\n",
      "Epoch 63/90\n",
      "1422/1422 [==============================] - 0s - loss: 6.9121e-04 - acc: 7.0323e-04 - val_loss: 0.0024 - val_acc: 0.0000e+00\n",
      "Epoch 64/90\n",
      "1422/1422 [==============================] - 0s - loss: 6.4370e-04 - acc: 7.0323e-04 - val_loss: 0.0026 - val_acc: 0.0000e+00\n",
      "Epoch 65/90\n",
      "1422/1422 [==============================] - 0s - loss: 6.9592e-04 - acc: 7.0323e-04 - val_loss: 0.0029 - val_acc: 0.0000e+00\n",
      "Epoch 66/90\n",
      "1422/1422 [==============================] - 0s - loss: 6.5732e-04 - acc: 7.0323e-04 - val_loss: 0.0027 - val_acc: 0.0000e+00\n",
      "Epoch 67/90\n",
      "1422/1422 [==============================] - 0s - loss: 7.0062e-04 - acc: 7.0323e-04 - val_loss: 0.0027 - val_acc: 0.0000e+00\n",
      "Epoch 68/90\n",
      "1422/1422 [==============================] - 0s - loss: 6.5614e-04 - acc: 7.0323e-04 - val_loss: 0.0027 - val_acc: 0.0000e+00\n",
      "Epoch 69/90\n",
      "1422/1422 [==============================] - 0s - loss: 6.5741e-04 - acc: 7.0323e-04 - val_loss: 0.0028 - val_acc: 0.0000e+00\n",
      "Epoch 70/90\n",
      "1422/1422 [==============================] - 0s - loss: 7.1818e-04 - acc: 7.0323e-04 - val_loss: 0.0028 - val_acc: 0.0000e+00\n",
      "Epoch 71/90\n",
      "1422/1422 [==============================] - 0s - loss: 6.7318e-04 - acc: 7.0323e-04 - val_loss: 0.0029 - val_acc: 0.0000e+00\n",
      "Epoch 72/90\n",
      "1422/1422 [==============================] - 0s - loss: 6.8221e-04 - acc: 7.0323e-04 - val_loss: 0.0030 - val_acc: 0.0000e+00\n",
      "Epoch 73/90\n",
      "1422/1422 [==============================] - 0s - loss: 6.9195e-04 - acc: 7.0323e-04 - val_loss: 0.0031 - val_acc: 0.0000e+00\n",
      "Epoch 74/90\n",
      "1422/1422 [==============================] - 0s - loss: 7.1295e-04 - acc: 7.0323e-04 - val_loss: 0.0030 - val_acc: 0.0000e+00\n",
      "Epoch 75/90\n",
      "1422/1422 [==============================] - 0s - loss: 6.6600e-04 - acc: 7.0323e-04 - val_loss: 0.0029 - val_acc: 0.0000e+00\n",
      "Epoch 76/90\n",
      "1422/1422 [==============================] - 0s - loss: 7.3121e-04 - acc: 7.0323e-04 - val_loss: 0.0030 - val_acc: 0.0000e+00\n",
      "Epoch 77/90\n",
      "1422/1422 [==============================] - 0s - loss: 7.1589e-04 - acc: 7.0323e-04 - val_loss: 0.0034 - val_acc: 0.0000e+00\n",
      "Epoch 78/90\n",
      "1422/1422 [==============================] - 0s - loss: 6.6121e-04 - acc: 7.0323e-04 - val_loss: 0.0036 - val_acc: 0.0000e+00\n",
      "Epoch 79/90\n",
      "1422/1422 [==============================] - 0s - loss: 6.8667e-04 - acc: 7.0323e-04 - val_loss: 0.0027 - val_acc: 0.0000e+00\n",
      "Epoch 80/90\n",
      "1422/1422 [==============================] - 0s - loss: 7.4485e-04 - acc: 7.0323e-04 - val_loss: 0.0032 - val_acc: 0.0000e+00\n",
      "Epoch 81/90\n",
      "1422/1422 [==============================] - 0s - loss: 7.2883e-04 - acc: 7.0323e-04 - val_loss: 0.0035 - val_acc: 0.0000e+00\n",
      "Epoch 82/90\n",
      "1422/1422 [==============================] - 0s - loss: 7.0964e-04 - acc: 7.0323e-04 - val_loss: 0.0024 - val_acc: 0.0000e+00\n",
      "Epoch 83/90\n",
      "1422/1422 [==============================] - 0s - loss: 6.8501e-04 - acc: 7.0323e-04 - val_loss: 0.0034 - val_acc: 0.0000e+00\n",
      "Epoch 84/90\n",
      "1422/1422 [==============================] - 0s - loss: 6.4748e-04 - acc: 7.0323e-04 - val_loss: 0.0036 - val_acc: 0.0000e+00\n",
      "Epoch 85/90\n",
      "1422/1422 [==============================] - 0s - loss: 6.6561e-04 - acc: 7.0323e-04 - val_loss: 0.0025 - val_acc: 0.0000e+00\n",
      "Epoch 86/90\n",
      "1422/1422 [==============================] - 0s - loss: 7.1135e-04 - acc: 7.0323e-04 - val_loss: 0.0029 - val_acc: 0.0000e+00\n",
      "Epoch 87/90\n",
      "1422/1422 [==============================] - 0s - loss: 6.7746e-04 - acc: 7.0323e-04 - val_loss: 0.0041 - val_acc: 0.0000e+00\n",
      "Epoch 88/90\n",
      "1422/1422 [==============================] - 0s - loss: 6.9392e-04 - acc: 7.0323e-04 - val_loss: 0.0023 - val_acc: 0.0000e+00\n",
      "Epoch 89/90\n",
      "1422/1422 [==============================] - 0s - loss: 7.2490e-04 - acc: 7.0323e-04 - val_loss: 0.0028 - val_acc: 0.0000e+00\n",
      "Epoch 90/90\n",
      "1422/1422 [==============================] - 0s - loss: 6.2940e-04 - acc: 7.0323e-04 - val_loss: 0.0043 - val_acc: 0.0000e+00\n"
     ]
    },
    {
     "data": {
      "text/plain": [
       "<keras.callbacks.History at 0x7fadec1c41d0>"
      ]
     },
     "execution_count": 20,
     "metadata": {},
     "output_type": "execute_result"
    }
   ],
   "source": [
    "model.fit(X_train,y_train,batch_size=512,epochs=90,validation_split=0.1,verbose=1)"
   ]
  },
  {
   "cell_type": "code",
   "execution_count": 21,
   "metadata": {},
   "outputs": [],
   "source": [
    "model.save('models/model_google.h5')"
   ]
  },
  {
   "cell_type": "code",
   "execution_count": 22,
   "metadata": {},
   "outputs": [],
   "source": [
    "p = model.predict(X_test)"
   ]
  },
  {
   "cell_type": "code",
   "execution_count": 23,
   "metadata": {},
   "outputs": [],
   "source": [
    "df = pandas.read_csv(\"../nyse/prices-split-adjusted.csv\", index_col = 0)\n",
    "df = df[df.symbol == 'GOOG']\n",
    "df[\"adj close\"] = df.close # Moving close to the last column\n",
    "df.drop(['close'], 1, inplace=True) # Moving close to the last column\n",
    "df.drop(['symbol'],1,inplace=True)\n",
    "\n",
    "# Bug fixed at here, please update the denormalize function to this one\n",
    "def denormalize(df, normalized_value): \n",
    "    df = df['adj close'].values.reshape(-1,1)\n",
    "    normalized_value = normalized_value.reshape(-1,1)\n",
    "    \n",
    "    #return df.shape, p.shape\n",
    "    min_max_scaler = preprocessing.MinMaxScaler()\n",
    "    a = min_max_scaler.fit_transform(df)\n",
    "    new = min_max_scaler.inverse_transform(normalized_value)\n",
    "    return new\n",
    "\n",
    "newp = denormalize(df, p)\n",
    "newy_test = denormalize(df, y_test)\n",
    "# newp = p\n",
    "# newy_test = y_test"
   ]
  },
  {
   "cell_type": "code",
   "execution_count": 24,
   "metadata": {},
   "outputs": [
    {
     "data": {
      "image/png": "[encoded data removed]",
      "text/plain": [
       "<matplotlib.figure.Figure at 0x7fad44389f10>"
      ]
     },
     "metadata": {},
     "output_type": "display_data"
    }
   ],
   "source": [
    "plt.plot(newp,color='red', label='Prediction')\n",
    "plt.plot(newy_test,color='blue', label='Actual')\n",
    "plt.savefig('../graph/Illumina.png')"
   ]
  },
  {
   "cell_type": "code",
   "execution_count": 25,
   "metadata": {},
   "outputs": [],
   "source": [
    "def model_score(model, X_train, y_train, X_test, y_test):\n",
    "    trainScore = model.evaluate(X_train, y_train, verbose=0)\n",
    "    print('Train Score: %.5f MSE (%.2f RMSE)' % (trainScore[0], math.sqrt(trainScore[0])))\n",
    "\n",
    "    testScore = model.evaluate(X_test, y_test, verbose=0)\n",
    "    print('Test Score: %.5f MSE (%.2f RMSE)' % (testScore[0], math.sqrt(testScore[0])))\n",
    "    return trainScore[0], testScore[0]"
   ]
  },
  {
   "cell_type": "code",
   "execution_count": 26,
   "metadata": {},
   "outputs": [
    {
     "name": "stdout",
     "output_type": "stream",
     "text": [
      "Train Score: 0.00080 MSE (0.03 RMSE)\n",
      "Test Score: 0.00635 MSE (0.08 RMSE)\n"
     ]
    },
    {
     "data": {
      "text/plain": [
       "(0.00079792189196218688, 0.0063547149131243878)"
      ]
     },
     "execution_count": 26,
     "metadata": {},
     "output_type": "execute_result"
    }
   ],
   "source": [
    "model_score(model, X_train, y_train, X_test, y_test)"
   ]
  },
  {
   "cell_type": "code",
   "execution_count": null,
   "metadata": {},
   "outputs": [],
   "source": []
  }
 ],
 "metadata": {
  "kernelspec": {
   "display_name": "Python 2",
   "language": "python",
   "name": "python2"
  },
  "language_info": {
   "codemirror_mode": {
    "name": "ipython",
    "version": 2
   },
   "file_extension": ".py",
   "mimetype": "text/x-python",
   "name": "python",
   "nbconvert_exporter": "python",
   "pygments_lexer": "ipython2",
   "version": "2.7.14"
  }
 },
 "nbformat": 4,
 "nbformat_minor": 1
}
