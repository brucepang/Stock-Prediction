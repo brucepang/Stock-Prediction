{
 "cells": [
  {
   "cell_type": "code",
   "execution_count": 1,
   "metadata": {},
   "outputs": [
    {
     "name": "stderr",
     "output_type": "stream",
     "text": [
      "Using TensorFlow backend.\n"
     ]
    }
   ],
   "source": [
    "import pandas\n",
    "import numpy as np\n",
    "%matplotlib inline\n",
    "import matplotlib.pyplot as plt\n",
    "import time\n",
    "import keras\n",
    "from keras.models import Sequential\n",
    "from keras.layers.core import Dense, Dropout, Activation\n",
    "from keras.layers.recurrent import LSTM\n",
    "from keras.models import load_model\n",
    "import keras\n",
    "from sklearn import preprocessing\n",
    "import tensorflow as tf\n",
    "import math"
   ]
  },
  {
   "cell_type": "code",
   "execution_count": 2,
   "metadata": {},
   "outputs": [
    {
     "name": "stdout",
     "output_type": "stream",
     "text": [
      "[[ 22.  28.]\n",
      " [ 49.  64.]]\n"
     ]
    }
   ],
   "source": [
    "# Creates a graph.\n",
    "a = tf.constant([1.0, 2.0, 3.0, 4.0, 5.0, 6.0], shape=[2, 3], name='a')\n",
    "b = tf.constant([1.0, 2.0, 3.0, 4.0, 5.0, 6.0], shape=[3, 2], name='b')\n",
    "c = tf.matmul(a, b)\n",
    "# Creates a session with log_device_placement set to True.\n",
    "sess = tf.Session(config=tf.ConfigProto(log_device_placement=True))\n",
    "# Runs the op.\n",
    "print(sess.run(c))"
   ]
  },
  {
   "cell_type": "code",
   "execution_count": 3,
   "metadata": {},
   "outputs": [],
   "source": [
    "def build_model(layers):\n",
    "    d = 0.3\n",
    "    model = Sequential()\n",
    "    \n",
    "    model.add(LSTM(256, input_shape=(layers[1], layers[0]), return_sequences=True))\n",
    "    model.add(Dropout(d))\n",
    "        \n",
    "    model.add(LSTM(256, input_shape=(layers[1], layers[0]), return_sequences=False))\n",
    "    model.add(Dropout(d))\n",
    "        \n",
    "    model.add(Dense(32,kernel_initializer=\"uniform\",activation='relu'))        \n",
    "    model.add(Dense(1,kernel_initializer=\"uniform\",activation='linear'))\n",
    "    \n",
    "    # adam = keras.optimizers.Adam(decay=0.2)\n",
    "        \n",
    "    start = time.time()\n",
    "    model.compile(loss='mse',optimizer='adam', metrics=['accuracy'])\n",
    "    print(\"Compilation Time : \", time.time() - start)\n",
    "    return model"
   ]
  },
  {
   "cell_type": "code",
   "execution_count": 4,
   "metadata": {},
   "outputs": [],
   "source": [
    "df = pandas.read_csv(\"../nyse/prices-split-adjusted.csv\",index_col = 0)\n",
    "df = df[df.symbol == 'FB']\n",
    "df[\"adj close\"] = df.close # Moving close to the last column\n",
    "df.drop(['close'], 1, inplace=True) # Moving close to the last column\n",
    "df.drop(['symbol'],1,inplace=True)"
   ]
  },
  {
   "cell_type": "code",
   "execution_count": 5,
   "metadata": {},
   "outputs": [],
   "source": [
    "def normalize_data(df):\n",
    "    min_max_scaler = preprocessing.MinMaxScaler()\n",
    "    df['open'] = min_max_scaler.fit_transform(df.open.values.reshape(-1,1))\n",
    "    df['high'] = min_max_scaler.fit_transform(df.high.values.reshape(-1,1))\n",
    "    df['low'] = min_max_scaler.fit_transform(df.low.values.reshape(-1,1))\n",
    "    df['volume'] = min_max_scaler.fit_transform(df.volume.values.reshape(-1,1))\n",
    "    df['adj close'] = min_max_scaler.fit_transform(df['adj close'].values.reshape(-1,1))\n",
    "    return df\n",
    "df = normalize_data(df)"
   ]
  },
  {
   "cell_type": "code",
   "execution_count": 6,
   "metadata": {},
   "outputs": [],
   "source": [
    "def load_data(stock, seq_len):\n",
    "    amount_of_features = len(stock.columns) # 5\n",
    "    data = stock.as_matrix() \n",
    "    sequence_length = seq_len + 1 # index starting from 0\n",
    "    result = []\n",
    "    \n",
    "    for index in range(len(data) - sequence_length): # maxmimum date = lastest date - sequence length\n",
    "        result.append(data[index: index + sequence_length]) # index : index + 22days\n",
    "    \n",
    "    result = np.array(result)\n",
    "    row = round(0.9 * result.shape[0]) # 90% split\n",
    "    train = result[:int(row), :] # 90% date, all features \n",
    "    \n",
    "    x_train = train[:, :-1] \n",
    "    y_train = train[:, -1][:,-1]\n",
    "    \n",
    "    x_test = result[int(row):, :-1] \n",
    "    y_test = result[int(row):, -1][:,-1]\n",
    "\n",
    "    x_train = np.reshape(x_train, (x_train.shape[0], x_train.shape[1], amount_of_features))\n",
    "    x_test = np.reshape(x_test, (x_test.shape[0], x_test.shape[1], amount_of_features))  \n",
    "\n",
    "    return [x_train, y_train, x_test, y_test]"
   ]
  },
  {
   "cell_type": "code",
   "execution_count": 7,
   "metadata": {},
   "outputs": [],
   "source": [
    "window = 22\n",
    "X_train, y_train, X_test, y_test = load_data(df, window)"
   ]
  },
  {
   "cell_type": "code",
   "execution_count": 8,
   "metadata": {},
   "outputs": [
    {
     "name": "stdout",
     "output_type": "stream",
     "text": [
      "('Compilation Time : ', 0.028406143188476562)\n"
     ]
    }
   ],
   "source": [
    "model = build_model([5,window,1])"
   ]
  },
  {
   "cell_type": "code",
   "execution_count": 9,
   "metadata": {
    "scrolled": false
   },
   "outputs": [
    {
     "name": "stdout",
     "output_type": "stream",
     "text": [
      "Train on 798 samples, validate on 89 samples\n",
      "Epoch 1/90\n",
      "798/798 [==============================] - 2s - loss: 0.2175 - acc: 0.0013 - val_loss: 0.6376 - val_acc: 0.0000e+00\n",
      "Epoch 2/90\n",
      "798/798 [==============================] - 0s - loss: 0.1835 - acc: 0.0013 - val_loss: 0.3543 - val_acc: 0.0000e+00\n",
      "Epoch 3/90\n",
      "798/798 [==============================] - 0s - loss: 0.0706 - acc: 0.0013 - val_loss: 0.0389 - val_acc: 0.0000e+00\n",
      "Epoch 4/90\n",
      "798/798 [==============================] - 0s - loss: 0.0391 - acc: 0.0013 - val_loss: 0.0378 - val_acc: 0.0000e+00\n",
      "Epoch 5/90\n",
      "798/798 [==============================] - 0s - loss: 0.0414 - acc: 0.0013 - val_loss: 0.1227 - val_acc: 0.0000e+00\n",
      "Epoch 6/90\n",
      "798/798 [==============================] - 0s - loss: 0.0216 - acc: 0.0013 - val_loss: 0.1897 - val_acc: 0.0000e+00\n",
      "Epoch 7/90\n",
      "798/798 [==============================] - 0s - loss: 0.0279 - acc: 0.0013 - val_loss: 0.1933 - val_acc: 0.0000e+00\n",
      "Epoch 8/90\n",
      "798/798 [==============================] - 0s - loss: 0.0275 - acc: 0.0013 - val_loss: 0.1471 - val_acc: 0.0000e+00\n",
      "Epoch 9/90\n",
      "798/798 [==============================] - 0s - loss: 0.0161 - acc: 0.0013 - val_loss: 0.0857 - val_acc: 0.0000e+00\n",
      "Epoch 10/90\n",
      "798/798 [==============================] - 0s - loss: 0.0109 - acc: 0.0013 - val_loss: 0.0430 - val_acc: 0.0000e+00\n",
      "Epoch 11/90\n",
      "798/798 [==============================] - 0s - loss: 0.0124 - acc: 0.0013 - val_loss: 0.0334 - val_acc: 0.0000e+00\n",
      "Epoch 12/90\n",
      "798/798 [==============================] - 0s - loss: 0.0055 - acc: 0.0013 - val_loss: 0.0449 - val_acc: 0.0000e+00\n",
      "Epoch 13/90\n",
      "798/798 [==============================] - 0s - loss: 0.0080 - acc: 0.0013 - val_loss: 0.0305 - val_acc: 0.0000e+00\n",
      "Epoch 14/90\n",
      "798/798 [==============================] - 0s - loss: 0.0048 - acc: 0.0013 - val_loss: 0.0076 - val_acc: 0.0000e+00\n",
      "Epoch 15/90\n",
      "798/798 [==============================] - 0s - loss: 0.0065 - acc: 0.0013 - val_loss: 0.0080 - val_acc: 0.0000e+00\n",
      "Epoch 16/90\n",
      "798/798 [==============================] - 0s - loss: 0.0036 - acc: 0.0013 - val_loss: 0.0212 - val_acc: 0.0000e+00\n",
      "Epoch 17/90\n",
      "798/798 [==============================] - 0s - loss: 0.0052 - acc: 0.0013 - val_loss: 0.0142 - val_acc: 0.0000e+00\n",
      "Epoch 18/90\n",
      "798/798 [==============================] - 0s - loss: 0.0029 - acc: 0.0013 - val_loss: 0.0051 - val_acc: 0.0000e+00\n",
      "Epoch 19/90\n",
      "798/798 [==============================] - 0s - loss: 0.0038 - acc: 0.0013 - val_loss: 0.0075 - val_acc: 0.0000e+00\n",
      "Epoch 20/90\n",
      "798/798 [==============================] - 0s - loss: 0.0026 - acc: 0.0013 - val_loss: 0.0164 - val_acc: 0.0000e+00\n",
      "Epoch 21/90\n",
      "798/798 [==============================] - 0s - loss: 0.0029 - acc: 0.0013 - val_loss: 0.0131 - val_acc: 0.0000e+00\n",
      "Epoch 22/90\n",
      "798/798 [==============================] - 0s - loss: 0.0024 - acc: 0.0013 - val_loss: 0.0053 - val_acc: 0.0000e+00\n",
      "Epoch 23/90\n",
      "798/798 [==============================] - 0s - loss: 0.0026 - acc: 0.0013 - val_loss: 0.0064 - val_acc: 0.0000e+00\n",
      "Epoch 24/90\n",
      "798/798 [==============================] - 0s - loss: 0.0020 - acc: 0.0013 - val_loss: 0.0104 - val_acc: 0.0000e+00\n",
      "Epoch 25/90\n",
      "798/798 [==============================] - 0s - loss: 0.0022 - acc: 0.0013 - val_loss: 0.0062 - val_acc: 0.0000e+00\n",
      "Epoch 26/90\n",
      "798/798 [==============================] - 0s - loss: 0.0019 - acc: 0.0013 - val_loss: 0.0023 - val_acc: 0.0000e+00\n",
      "Epoch 27/90\n",
      "798/798 [==============================] - 0s - loss: 0.0018 - acc: 0.0013 - val_loss: 0.0026 - val_acc: 0.0000e+00\n",
      "Epoch 28/90\n",
      "798/798 [==============================] - 0s - loss: 0.0016 - acc: 0.0013 - val_loss: 0.0035 - val_acc: 0.0000e+00\n",
      "Epoch 29/90\n",
      "798/798 [==============================] - 0s - loss: 0.0016 - acc: 0.0013 - val_loss: 0.0015 - val_acc: 0.0000e+00\n",
      "Epoch 30/90\n",
      "798/798 [==============================] - 0s - loss: 0.0016 - acc: 0.0013 - val_loss: 0.0013 - val_acc: 0.0000e+00\n",
      "Epoch 31/90\n",
      "798/798 [==============================] - 0s - loss: 0.0015 - acc: 0.0013 - val_loss: 0.0019 - val_acc: 0.0000e+00\n",
      "Epoch 32/90\n",
      "798/798 [==============================] - 0s - loss: 0.0016 - acc: 0.0013 - val_loss: 0.0015 - val_acc: 0.0000e+00\n",
      "Epoch 33/90\n",
      "798/798 [==============================] - 0s - loss: 0.0016 - acc: 0.0013 - val_loss: 0.0012 - val_acc: 0.0000e+00\n",
      "Epoch 34/90\n",
      "798/798 [==============================] - 0s - loss: 0.0015 - acc: 0.0013 - val_loss: 0.0016 - val_acc: 0.0000e+00\n",
      "Epoch 35/90\n",
      "798/798 [==============================] - 0s - loss: 0.0016 - acc: 0.0013 - val_loss: 0.0018 - val_acc: 0.0000e+00\n",
      "Epoch 36/90\n",
      "798/798 [==============================] - 0s - loss: 0.0015 - acc: 0.0013 - val_loss: 0.0013 - val_acc: 0.0000e+00\n",
      "Epoch 37/90\n",
      "798/798 [==============================] - 0s - loss: 0.0015 - acc: 0.0013 - val_loss: 0.0016 - val_acc: 0.0000e+00\n",
      "Epoch 38/90\n",
      "798/798 [==============================] - 0s - loss: 0.0015 - acc: 0.0013 - val_loss: 0.0022 - val_acc: 0.0000e+00\n",
      "Epoch 39/90\n",
      "798/798 [==============================] - 0s - loss: 0.0014 - acc: 0.0013 - val_loss: 0.0014 - val_acc: 0.0000e+00\n",
      "Epoch 40/90\n",
      "798/798 [==============================] - 0s - loss: 0.0015 - acc: 0.0013 - val_loss: 0.0011 - val_acc: 0.0000e+00\n",
      "Epoch 41/90\n",
      "798/798 [==============================] - 0s - loss: 0.0016 - acc: 0.0013 - val_loss: 0.0017 - val_acc: 0.0000e+00\n",
      "Epoch 42/90\n",
      "798/798 [==============================] - 0s - loss: 0.0016 - acc: 0.0013 - val_loss: 0.0015 - val_acc: 0.0000e+00\n",
      "Epoch 43/90\n",
      "798/798 [==============================] - 0s - loss: 0.0015 - acc: 0.0013 - val_loss: 0.0011 - val_acc: 0.0000e+00\n",
      "Epoch 44/90\n",
      "798/798 [==============================] - 0s - loss: 0.0016 - acc: 0.0013 - val_loss: 0.0017 - val_acc: 0.0000e+00\n",
      "Epoch 45/90\n",
      "798/798 [==============================] - 0s - loss: 0.0015 - acc: 0.0013 - val_loss: 0.0014 - val_acc: 0.0000e+00\n",
      "Epoch 46/90\n",
      "798/798 [==============================] - 0s - loss: 0.0015 - acc: 0.0013 - val_loss: 0.0012 - val_acc: 0.0000e+00\n",
      "Epoch 47/90\n",
      "798/798 [==============================] - 0s - loss: 0.0014 - acc: 0.0013 - val_loss: 0.0024 - val_acc: 0.0000e+00\n",
      "Epoch 48/90\n",
      "798/798 [==============================] - 0s - loss: 0.0017 - acc: 0.0013 - val_loss: 0.0012 - val_acc: 0.0000e+00\n",
      "Epoch 49/90\n",
      "798/798 [==============================] - 0s - loss: 0.0016 - acc: 0.0013 - val_loss: 0.0015 - val_acc: 0.0000e+00\n",
      "Epoch 50/90\n",
      "798/798 [==============================] - 0s - loss: 0.0014 - acc: 0.0013 - val_loss: 0.0021 - val_acc: 0.0000e+00\n",
      "Epoch 51/90\n",
      "798/798 [==============================] - 0s - loss: 0.0015 - acc: 0.0013 - val_loss: 0.0012 - val_acc: 0.0000e+00\n",
      "Epoch 52/90\n",
      "798/798 [==============================] - 0s - loss: 0.0015 - acc: 0.0013 - val_loss: 0.0017 - val_acc: 0.0000e+00\n",
      "Epoch 53/90\n",
      "798/798 [==============================] - 0s - loss: 0.0014 - acc: 0.0013 - val_loss: 0.0019 - val_acc: 0.0000e+00\n",
      "Epoch 54/90\n",
      "798/798 [==============================] - 0s - loss: 0.0016 - acc: 0.0013 - val_loss: 0.0012 - val_acc: 0.0000e+00\n",
      "Epoch 55/90\n",
      "798/798 [==============================] - 0s - loss: 0.0015 - acc: 0.0013 - val_loss: 0.0017 - val_acc: 0.0000e+00\n",
      "Epoch 56/90\n",
      "798/798 [==============================] - 0s - loss: 0.0013 - acc: 0.0013 - val_loss: 0.0021 - val_acc: 0.0000e+00\n",
      "Epoch 57/90\n",
      "798/798 [==============================] - 0s - loss: 0.0014 - acc: 0.0013 - val_loss: 0.0013 - val_acc: 0.0000e+00\n",
      "Epoch 58/90\n",
      "798/798 [==============================] - 0s - loss: 0.0015 - acc: 0.0013 - val_loss: 0.0018 - val_acc: 0.0000e+00\n",
      "Epoch 59/90\n",
      "798/798 [==============================] - 0s - loss: 0.0014 - acc: 0.0013 - val_loss: 0.0020 - val_acc: 0.0000e+00\n",
      "Epoch 60/90\n",
      "798/798 [==============================] - 0s - loss: 0.0014 - acc: 0.0013 - val_loss: 0.0011 - val_acc: 0.0000e+00\n",
      "Epoch 61/90\n",
      "798/798 [==============================] - 0s - loss: 0.0014 - acc: 0.0013 - val_loss: 0.0015 - val_acc: 0.0000e+00\n",
      "Epoch 62/90\n",
      "798/798 [==============================] - 0s - loss: 0.0013 - acc: 0.0013 - val_loss: 0.0014 - val_acc: 0.0000e+00\n",
      "Epoch 63/90\n",
      "798/798 [==============================] - 0s - loss: 0.0013 - acc: 0.0013 - val_loss: 0.0011 - val_acc: 0.0000e+00\n",
      "Epoch 64/90\n"
     ]
    },
    {
     "name": "stdout",
     "output_type": "stream",
     "text": [
      "798/798 [==============================] - 0s - loss: 0.0014 - acc: 0.0013 - val_loss: 0.0014 - val_acc: 0.0000e+00\n",
      "Epoch 65/90\n",
      "798/798 [==============================] - 0s - loss: 0.0013 - acc: 0.0013 - val_loss: 0.0013 - val_acc: 0.0000e+00\n",
      "Epoch 66/90\n",
      "798/798 [==============================] - 0s - loss: 0.0015 - acc: 0.0013 - val_loss: 0.0017 - val_acc: 0.0000e+00\n",
      "Epoch 67/90\n",
      "798/798 [==============================] - 0s - loss: 0.0015 - acc: 0.0013 - val_loss: 0.0013 - val_acc: 0.0000e+00\n",
      "Epoch 68/90\n",
      "798/798 [==============================] - 0s - loss: 0.0013 - acc: 0.0013 - val_loss: 0.0017 - val_acc: 0.0000e+00\n",
      "Epoch 69/90\n",
      "798/798 [==============================] - 0s - loss: 0.0014 - acc: 0.0013 - val_loss: 0.0014 - val_acc: 0.0000e+00\n",
      "Epoch 70/90\n",
      "798/798 [==============================] - 0s - loss: 0.0013 - acc: 0.0013 - val_loss: 0.0012 - val_acc: 0.0000e+00\n",
      "Epoch 71/90\n",
      "798/798 [==============================] - 0s - loss: 0.0014 - acc: 0.0013 - val_loss: 0.0016 - val_acc: 0.0000e+00\n",
      "Epoch 72/90\n",
      "798/798 [==============================] - 0s - loss: 0.0013 - acc: 0.0013 - val_loss: 0.0010 - val_acc: 0.0000e+00\n",
      "Epoch 73/90\n",
      "798/798 [==============================] - 0s - loss: 0.0013 - acc: 0.0013 - val_loss: 0.0013 - val_acc: 0.0000e+00\n",
      "Epoch 74/90\n",
      "798/798 [==============================] - 0s - loss: 0.0015 - acc: 0.0013 - val_loss: 9.6094e-04 - val_acc: 0.0000e+00\n",
      "Epoch 75/90\n",
      "798/798 [==============================] - 0s - loss: 0.0014 - acc: 0.0013 - val_loss: 0.0012 - val_acc: 0.0000e+00\n",
      "Epoch 76/90\n",
      "798/798 [==============================] - 0s - loss: 0.0014 - acc: 0.0013 - val_loss: 0.0013 - val_acc: 0.0000e+00\n",
      "Epoch 77/90\n",
      "798/798 [==============================] - 0s - loss: 0.0013 - acc: 0.0013 - val_loss: 9.8773e-04 - val_acc: 0.0000e+00\n",
      "Epoch 78/90\n",
      "798/798 [==============================] - 0s - loss: 0.0013 - acc: 0.0013 - val_loss: 0.0019 - val_acc: 0.0000e+00\n",
      "Epoch 79/90\n",
      "798/798 [==============================] - 0s - loss: 0.0013 - acc: 0.0013 - val_loss: 0.0014 - val_acc: 0.0000e+00\n",
      "Epoch 80/90\n",
      "798/798 [==============================] - 0s - loss: 0.0013 - acc: 0.0013 - val_loss: 0.0013 - val_acc: 0.0000e+00\n",
      "Epoch 81/90\n",
      "798/798 [==============================] - 0s - loss: 0.0014 - acc: 0.0013 - val_loss: 0.0013 - val_acc: 0.0000e+00\n",
      "Epoch 82/90\n",
      "798/798 [==============================] - 0s - loss: 0.0013 - acc: 0.0013 - val_loss: 0.0011 - val_acc: 0.0000e+00\n",
      "Epoch 83/90\n",
      "798/798 [==============================] - 0s - loss: 0.0013 - acc: 0.0013 - val_loss: 0.0012 - val_acc: 0.0000e+00\n",
      "Epoch 84/90\n",
      "798/798 [==============================] - 0s - loss: 0.0012 - acc: 0.0013 - val_loss: 0.0014 - val_acc: 0.0000e+00\n",
      "Epoch 85/90\n",
      "798/798 [==============================] - 0s - loss: 0.0012 - acc: 0.0013 - val_loss: 0.0010 - val_acc: 0.0000e+00\n",
      "Epoch 86/90\n",
      "798/798 [==============================] - 0s - loss: 0.0013 - acc: 0.0013 - val_loss: 0.0016 - val_acc: 0.0000e+00\n",
      "Epoch 87/90\n",
      "798/798 [==============================] - 0s - loss: 0.0012 - acc: 0.0013 - val_loss: 9.5606e-04 - val_acc: 0.0000e+00\n",
      "Epoch 88/90\n",
      "798/798 [==============================] - 0s - loss: 0.0012 - acc: 0.0013 - val_loss: 0.0016 - val_acc: 0.0000e+00\n",
      "Epoch 89/90\n",
      "798/798 [==============================] - 0s - loss: 0.0013 - acc: 0.0013 - val_loss: 0.0010 - val_acc: 0.0000e+00\n",
      "Epoch 90/90\n",
      "798/798 [==============================] - 0s - loss: 0.0013 - acc: 0.0013 - val_loss: 0.0013 - val_acc: 0.0000e+00\n"
     ]
    },
    {
     "data": {
      "text/plain": [
       "<keras.callbacks.History at 0x7f3938128390>"
      ]
     },
     "execution_count": 9,
     "metadata": {},
     "output_type": "execute_result"
    }
   ],
   "source": [
    "model.fit(X_train,y_train,batch_size=512,epochs=90,validation_split=0.1,verbose=1)"
   ]
  },
  {
   "cell_type": "code",
   "execution_count": 10,
   "metadata": {},
   "outputs": [],
   "source": [
    "model.save('model_facebook.h5')"
   ]
  },
  {
   "cell_type": "code",
   "execution_count": 11,
   "metadata": {},
   "outputs": [],
   "source": [
    "p = model.predict(X_test)"
   ]
  },
  {
   "cell_type": "code",
   "execution_count": 12,
   "metadata": {},
   "outputs": [],
   "source": [
    "df = pandas.read_csv(\"../nyse/prices-split-adjusted.csv\", index_col = 0)\n",
    "df = df[df.symbol == 'FB']\n",
    "df[\"adj close\"] = df.close # Moving close to the last column\n",
    "df.drop(['close'], 1, inplace=True) # Moving close to the last column\n",
    "df.drop(['symbol'],1,inplace=True)\n",
    "\n",
    "# Bug fixed at here, please update the denormalize function to this one\n",
    "def denormalize(df, normalized_value): \n",
    "    df = df['adj close'].values.reshape(-1,1)\n",
    "    normalized_value = normalized_value.reshape(-1,1)\n",
    "    \n",
    "    #return df.shape, p.shape\n",
    "    min_max_scaler = preprocessing.MinMaxScaler()\n",
    "    a = min_max_scaler.fit_transform(df)\n",
    "    new = min_max_scaler.inverse_transform(normalized_value)\n",
    "    return new\n",
    "\n",
    "newp = denormalize(df, p)\n",
    "newy_test = denormalize(df, y_test)\n",
    "# newp = p\n",
    "# newy_test = y_test"
   ]
  },
  {
   "cell_type": "code",
   "execution_count": 13,
   "metadata": {},
   "outputs": [
    {
     "data": {
      "text/plain": [
       "[<matplotlib.lines.Line2D at 0x7f3874201f90>]"
      ]
     },
     "execution_count": 13,
     "metadata": {},
     "output_type": "execute_result"
    },
    {
     "data": {
      "image/png": "[encoded data removed]",
      "text/plain": [
       "<matplotlib.figure.Figure at 0x7f3874297b10>"
      ]
     },
     "metadata": {},
     "output_type": "display_data"
    }
   ],
   "source": [
    "plt.plot(newp,color='red', label='Prediction')\n",
    "plt.plot(newy_test,color='blue', label='Actual')"
   ]
  },
  {
   "cell_type": "code",
   "execution_count": 14,
   "metadata": {},
   "outputs": [],
   "source": [
    "def model_score(model, X_train, y_train, X_test, y_test):\n",
    "    trainScore = model.evaluate(X_train, y_train, verbose=0)\n",
    "    print('Train Score: %.5f MSE (%.2f RMSE)' % (trainScore[0], math.sqrt(trainScore[0])))\n",
    "\n",
    "    testScore = model.evaluate(X_test, y_test, verbose=0)\n",
    "    print('Test Score: %.5f MSE (%.2f RMSE)' % (testScore[0], math.sqrt(testScore[0])))\n",
    "    return trainScore[0], testScore[0]"
   ]
  },
  {
   "cell_type": "code",
   "execution_count": 15,
   "metadata": {},
   "outputs": [
    {
     "name": "stdout",
     "output_type": "stream",
     "text": [
      "Train Score: 0.00081 MSE (0.03 RMSE)\n",
      "Test Score: 0.00172 MSE (0.04 RMSE)\n"
     ]
    },
    {
     "data": {
      "text/plain": [
       "(0.00080617557367963007, 0.0017238544639384395)"
      ]
     },
     "execution_count": 15,
     "metadata": {},
     "output_type": "execute_result"
    }
   ],
   "source": [
    "model_score(model, X_train, y_train, X_test, y_test)"
   ]
  },
  {
   "cell_type": "code",
   "execution_count": null,
   "metadata": {},
   "outputs": [],
   "source": []
  }
 ],
 "metadata": {
  "kernelspec": {
   "display_name": "Python 2",
   "language": "python",
   "name": "python2"
  },
  "language_info": {
   "codemirror_mode": {
    "name": "ipython",
    "version": 2
   },
   "file_extension": ".py",
   "mimetype": "text/x-python",
   "name": "python",
   "nbconvert_exporter": "python",
   "pygments_lexer": "ipython2",
   "version": "2.7.14"
  }
 },
 "nbformat": 4,
 "nbformat_minor": 1
}
